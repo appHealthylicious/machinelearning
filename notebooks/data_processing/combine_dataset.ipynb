{
 "cells": [
  {
   "cell_type": "code",
   "execution_count": 31,
   "metadata": {},
   "outputs": [],
   "source": [
    "import pandas as pd\n",
    "import os\n"
   ]
  },
  {
   "cell_type": "markdown",
   "metadata": {},
   "source": [
    "## Folder dataset CSV"
   ]
  },
  {
   "cell_type": "code",
   "execution_count": 41,
   "metadata": {},
   "outputs": [],
   "source": [
    "# Folder containing the CSV datasets\n",
    "input_folder = 'dataset/raw/recipes_by_course/dataset_csv'\n",
    "output_file = 'dataset/raw/combined_dataset/combined_dataset.csv'"
   ]
  },
  {
   "cell_type": "code",
   "execution_count": 42,
   "metadata": {},
   "outputs": [],
   "source": [
    "# List all files in the input folder\n",
    "files = os.listdir(input_folder)\n",
    "\n",
    "# Initialize an empty list to hold the DataFrames\n",
    "dataframes = []"
   ]
  },
  {
   "cell_type": "code",
   "execution_count": 36,
   "metadata": {},
   "outputs": [],
   "source": [
    "# Loop through the files and read each CSV into a DataFrame\n",
    "for file in files:\n",
    "    if file.endswith('.csv'):\n",
    "        file_path = os.path.join(input_folder, file)\n",
    "        df = pd.read_csv(file_path)\n",
    "        dataframes.append(df)\n",
    "\n",
    "# Concatenate all DataFrames into one\n",
    "combined_df = pd.concat(dataframes, ignore_index=True)"
   ]
  },
  {
   "cell_type": "code",
   "execution_count": null,
   "metadata": {},
   "outputs": [
    {
     "name": "stdout",
     "output_type": "stream",
     "text": [
      "Combined 9 files into C:\\Users\\arsen\\Healthylicious\\combined_dataset\\combined_dataset.csv\n"
     ]
    }
   ],
   "source": [
    "# Save the combined DataFrame to a single CSV file\n",
    "combined_df.to_csv(output_file, index=False)\n",
    "\n",
    "print(f\"Combined {len(files)} files into {output_file}\")"
   ]
  },
  {
   "cell_type": "markdown",
   "metadata": {},
   "source": [
    "## Folder dataset XLSX\n"
   ]
  },
  {
   "cell_type": "code",
   "execution_count": 29,
   "metadata": {},
   "outputs": [],
   "source": [
    "# Folder containing the Excel datasets\n",
    "input_folder = 'dataset/raw/recipes_by_course/dataset_xlsx'\n",
    "output_file = 'dataset/raw/combined_dataset/combined_dataset.xlsx'"
   ]
  },
  {
   "cell_type": "code",
   "execution_count": null,
   "metadata": {},
   "outputs": [],
   "source": [
    "# List all files in the input folder\n",
    "files = os.listdir(input_folder)\n",
    "\n",
    "# Initialize an empty list to hold the DataFrames\n",
    "dataframes = []"
   ]
  },
  {
   "cell_type": "code",
   "execution_count": null,
   "metadata": {},
   "outputs": [],
   "source": [
    "# Loop through the files and read each Excel file into a DataFrame\n",
    "for file in files:\n",
    "    if file.endswith('.xlsx'):\n",
    "        file_path = os.path.join(input_folder, file)\n",
    "        df = pd.read_excel(file_path)\n",
    "        dataframes.append(df)\n",
    "\n",
    "# Concatenate all DataFrames into one\n",
    "combined_df = pd.concat(dataframes, ignore_index=True)"
   ]
  },
  {
   "cell_type": "code",
   "execution_count": null,
   "metadata": {},
   "outputs": [
    {
     "name": "stdout",
     "output_type": "stream",
     "text": [
      "Combined 9 files into C:\\Users\\arsen\\Healthylicious\\combined_dataset\\combined_dataset.xlsx\n"
     ]
    }
   ],
   "source": [
    "# Save the combined DataFrame to a single Excel file\n",
    "combined_df.to_excel(output_file, index=False, engine='openpyxl')\n",
    "\n",
    "print(f\"Combined {len(dataframes)} files into {output_file}\")"
   ]
  }
 ],
 "metadata": {
  "kernelspec": {
   "display_name": ".venv",
   "language": "python",
   "name": "python3"
  },
  "language_info": {
   "codemirror_mode": {
    "name": "ipython",
    "version": 3
   },
   "file_extension": ".py",
   "mimetype": "text/x-python",
   "name": "python",
   "nbconvert_exporter": "python",
   "pygments_lexer": "ipython3",
   "version": "3.9.13"
  }
 },
 "nbformat": 4,
 "nbformat_minor": 2
}
