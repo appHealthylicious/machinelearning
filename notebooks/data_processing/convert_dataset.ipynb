{
 "cells": [
  {
   "cell_type": "code",
   "execution_count": 1,
   "metadata": {},
   "outputs": [],
   "source": [
    "import pandas as pd\n",
    "import os"
   ]
  },
  {
   "cell_type": "code",
   "execution_count": 15,
   "metadata": {},
   "outputs": [],
   "source": [
    "# Folder containing the datasets\n",
    "input_folder = '# Folder containing the datasets(CSV or XLSX)'\n",
    "output_folder = '# Folder Output'"
   ]
  },
  {
   "cell_type": "code",
   "execution_count": 16,
   "metadata": {},
   "outputs": [],
   "source": [
    "# Create output folder if it does not exist\n",
    "if not os.path.exists(output_folder):\n",
    "    os.makedirs(output_folder)\n",
    "\n",
    "# List all files in the input folder\n",
    "files = os.listdir(input_folder)\n"
   ]
  },
  {
   "cell_type": "markdown",
   "metadata": {},
   "source": [
    "# CSV to XLSX"
   ]
  },
  {
   "cell_type": "code",
   "execution_count": 17,
   "metadata": {},
   "outputs": [
    {
     "name": "stdout",
     "output_type": "stream",
     "text": [
      "Converted combined_dataset_cleaned.csv to Excel.\n"
     ]
    }
   ],
   "source": [
    "# Loop through the files and convert .csv to .xlsx\n",
    "for file in files:\n",
    "    if file.endswith('.csv'):\n",
    "        # Construct full file path\n",
    "        input_file_path = os.path.join(input_folder, file)\n",
    "        output_file_path = os.path.join(output_folder, file.replace('.csv', '.xlsx'))\n",
    "        \n",
    "        # Read the CSV file\n",
    "        df = pd.read_csv(input_file_path)\n",
    "        \n",
    "        # Save as Excel\n",
    "        df.to_excel(output_file_path, index=False, engine='openpyxl')\n",
    "        print(f\"Converted {file} to Excel.\")"
   ]
  },
  {
   "cell_type": "markdown",
   "metadata": {},
   "source": [
    "# XLSX to CSV"
   ]
  },
  {
   "cell_type": "code",
   "execution_count": 9,
   "metadata": {},
   "outputs": [
    {
     "name": "stdout",
     "output_type": "stream",
     "text": [
      "Converted appetizers.xlsx to CSV.\n",
      "Converted bread.xlsx to CSV.\n",
      "Converted breakfast.xlsx to CSV.\n",
      "Converted desserts.xlsx to CSV.\n",
      "Converted lunch.xlsx to CSV.\n",
      "Converted main_course.xlsx to CSV.\n",
      "Converted salad.xlsx to CSV.\n",
      "Converted side_dishes.xlsx to CSV.\n",
      "Converted snacks.xlsx to CSV.\n"
     ]
    }
   ],
   "source": [
    "# Loop through the files and convert .xlsx to .csv\n",
    "for file in files:\n",
    "    if file.endswith('.xlsx'):\n",
    "        # Construct full file path\n",
    "        input_file_path = os.path.join(input_folder, file)\n",
    "        output_file_path = os.path.join(output_folder, file.replace('.xlsx', '.csv'))\n",
    "        \n",
    "        # Read the Excel file\n",
    "        df = pd.read_excel(input_file_path)\n",
    "        \n",
    "        # Save as CSV\n",
    "        df.to_csv(output_file_path, index=False)\n",
    "        print(f\"Converted {file} to CSV.\")\n"
   ]
  }
 ],
 "metadata": {
  "kernelspec": {
   "display_name": ".venv",
   "language": "python",
   "name": "python3"
  },
  "language_info": {
   "codemirror_mode": {
    "name": "ipython",
    "version": 3
   },
   "file_extension": ".py",
   "mimetype": "text/x-python",
   "name": "python",
   "nbconvert_exporter": "python",
   "pygments_lexer": "ipython3",
   "version": "3.9.13"
  }
 },
 "nbformat": 4,
 "nbformat_minor": 2
}
