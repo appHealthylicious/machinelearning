{
 "cells": [
  {
   "cell_type": "code",
   "execution_count": 48,
   "metadata": {},
   "outputs": [],
   "source": [
    "import pandas as pd\n",
    "import numpy as np\n",
    "import string, re\n",
    "import swifter\n",
    "import pickle \n",
    "\n",
    "from sklearn.feature_extraction.text import CountVectorizer, TfidfVectorizer\n",
    "from nltk import bigrams \n",
    "from nltk.stem import SnowballStemmer\n",
    "from nltk.tokenize import word_tokenize, sent_tokenize, RegexpTokenizer\n",
    "\n",
    "from nltk.corpus import stopwords\n",
    "# import nltk\n",
    "# nltk.download('stopwords')\n",
    "\n",
    "import spacy\n",
    "nlp = spacy.load(\"en_core_web_sm\")\n",
    "from sklearn.decomposition import NMF, TruncatedSVD\n",
    "from sklearn.metrics import pairwise_distances\n",
    "from sklearn.metrics.pairwise import cosine_similarity"
   ]
  },
  {
   "cell_type": "code",
   "execution_count": 49,
   "metadata": {},
   "outputs": [],
   "source": [
    "df = pd.read_csv(\"C:/Users/arsen/Healthylicious/data/cleaned/csv/recipes_cleaned.csv\")"
   ]
  },
  {
   "cell_type": "code",
   "execution_count": 50,
   "metadata": {},
   "outputs": [],
   "source": [
    "df['ID'] = range(1, len(df) + 1)"
   ]
  },
  {
   "cell_type": "code",
   "execution_count": 51,
   "metadata": {},
   "outputs": [
    {
     "name": "stdout",
     "output_type": "stream",
     "text": [
      "   ID               Category                                      Title  \\\n",
      "0   1            Main Course                   Swedish Meatballs Recipe   \n",
      "1   2  Appetizer,Main Course  Baked Crispy Buffalo Chicken Wings Recipe   \n",
      "2   3              Appetizer                           Guacamole Recipe   \n",
      "3   4              Appetizer                       Perfect Queso Recipe   \n",
      "4   5              Appetizer                 Buffalo Chicken Dip Recipe   \n",
      "\n",
      "   Total Time                                    All Ingredients  \\\n",
      "0          30  1 pound ground beef, 2 tablespoons diced onion...   \n",
      "1          60  6 pounds chicken wings (trimmed), 3 tablespoon...   \n",
      "2           5  2 avocados (halved, seeded, and peeled), 1 tab...   \n",
      "3           5  1/2 cup pepper jack cheese, 1 cup grated white...   \n",
      "4          25  2 cups chicken breasts (cooked and shredded), ...   \n",
      "\n",
      "                                   Ingredient Groups  \\\n",
      "0  IngredientGroup(ingredients=['1 pound ground b...   \n",
      "1  IngredientGroup(ingredients=['6 pounds chicken...   \n",
      "2  IngredientGroup(ingredients=['2 avocados (halv...   \n",
      "3  IngredientGroup(ingredients=['1/2 cup pepper j...   \n",
      "4  IngredientGroup(ingredients=['2 cups chicken b...   \n",
      "\n",
      "                                        Instructions  \\\n",
      "0  For the meatballs:\\r\\nMix together all ingredi...   \n",
      "1  Preheat the oven to 425º F. Line a baking shee...   \n",
      "2  Mash avocado with a fork or potato masher in a...   \n",
      "3  Stovetop Queso:\\r\\nAdd cheeses and half of the...   \n",
      "4  Preheat oven to 350º F.\\r\\nMix together all in...   \n",
      "\n",
      "                                           Nutrition   Cuisine       Yields  \\\n",
      "0  {'calories': '220 kcal', 'carbohydrateContent'...  American   6 servings   \n",
      "1  {'servingSize': '0.25 pound', 'calories': '419...  American   8 servings   \n",
      "2  {'carbohydrateContent': '7 g', 'proteinContent...   Mexican   6 servings   \n",
      "3  {'calories': '534 kcal', 'carbohydrateContent'...  American   2 servings   \n",
      "4  {'calories': '106 kcal', 'proteinContent': '4 ...  American  12 servings   \n",
      "\n",
      "                                               Image  Ratings  \\\n",
      "0  https://addapinch.com/wp-content/uploads/2022/...     4.95   \n",
      "1  https://addapinch.com/wp-content/uploads/2018/...     5.00   \n",
      "2  https://addapinch.com/wp-content/uploads/2013/...     4.50   \n",
      "3  https://addapinch.com/wp-content/uploads/2015/...     5.00   \n",
      "4  https://addapinch.com/wp-content/uploads/2024/...     5.00   \n",
      "\n",
      "                                         Description    Status  \n",
      "0  The Best Swedish Meatballs feature tender meat...  Complete  \n",
      "1  Crispy Baked Buffalo Chicken Wings that are so...  Complete  \n",
      "2  This easy Guacamole recipe, made with fresh in...  Complete  \n",
      "3  This easy and delicious Queso recipe is made w...  Complete  \n",
      "4  Buffalo Chicken Dip Recipe is the best easy ap...  Complete  \n"
     ]
    }
   ],
   "source": [
    "cols = ['ID'] + [col for col in df.columns if col != 'ID']\n",
    "df = df[cols]\n",
    "\n",
    "print(df.head())"
   ]
  },
  {
   "cell_type": "code",
   "execution_count": 52,
   "metadata": {},
   "outputs": [],
   "source": [
    "df['Rating Counts'] = np.random.randint(1, 1001, size=len(df))"
   ]
  },
  {
   "cell_type": "code",
   "execution_count": 53,
   "metadata": {},
   "outputs": [
    {
     "name": "stdout",
     "output_type": "stream",
     "text": [
      "['ID', 'Category', 'Title', 'Total Time', 'All Ingredients', 'Ingredient Groups', 'Instructions', 'Nutrition', 'Cuisine', 'Yields', 'Image', 'Ratings', 'Description', 'Status', 'Rating Counts']\n"
     ]
    }
   ],
   "source": [
    "print(df.columns.tolist())"
   ]
  },
  {
   "cell_type": "code",
   "execution_count": 54,
   "metadata": {},
   "outputs": [
    {
     "name": "stdout",
     "output_type": "stream",
     "text": [
      "['ID', 'Category', 'Title', 'Total Time', 'All Ingredients', 'Ingredient Groups', 'Instructions', 'Nutrition', 'Cuisine', 'Yields', 'Image', 'Ratings', 'Rating Counts', 'Description', 'Status']\n"
     ]
    }
   ],
   "source": [
    "cols = df.columns.tolist()  # Dapatkan daftar kolom\n",
    "cols.insert(12, cols.pop(cols.index('Rating Counts')))  # Pindahkan 'Rating Counts' ke posisi ke-13\n",
    "df = df[cols] \n",
    "print(df.columns.tolist())"
   ]
  },
  {
   "cell_type": "code",
   "execution_count": 55,
   "metadata": {},
   "outputs": [],
   "source": [
    "df = df.set_index('ID')\n",
    "df = df.dropna(subset=['Title','Rating Counts'])   "
   ]
  },
  {
   "cell_type": "code",
   "execution_count": 56,
   "metadata": {},
   "outputs": [],
   "source": [
    "measure_words = ['bottle', 'bottles', 'box', 'boxes', 'bunch','bunches', 'bushel','bushels', \n",
    "                 'can', 'cans', 'container', 'c', 'cup', 'cups', 'carton', 'cartons', 'half',\n",
    "                 'dash','dashes', 'drop','drops','fl', 'fl.', 'fluid','jar', 'jars','ounce','ounces','oz',\n",
    "                 'g', 'gallon','gallons', 'glass','glasses', 'gram','grams','kg','kgs', 'lb','lbs', 'inch', 'inches'\n",
    "                 'liter','liters', 'l', 'large', 'medium', 'ml','mls', 'package','pkg','small', 'to taste',\n",
    "                 'pinch','pinches', 'pint','pints', 'pound','pounds', 'qt','qts', 'quart','quarts',\n",
    "                 'scoop','scoops', 'sliced','slivered','stick','sticks', 'tablespoon','tablespoons',\n",
    "                 'tbs','tbsp','tbsps', 'teaspoon','teaspoons','tsp','tsps','whole','cut into cube','cut into piece','fully'\n",
    "                 ,'optional mix in','optional topping', 'package', 'piece','bags','ball','cut']"
   ]
  },
  {
   "cell_type": "code",
   "execution_count": 57,
   "metadata": {},
   "outputs": [],
   "source": [
    "def clean_once(text):\n",
    "    # Remove anything inside parentheses, including the parentheses themselves\n",
    "    text = re.sub(r'\\([^)]*\\)', '', text)\n",
    "    \n",
    "    text = re.sub(r\"confectioner'?s'\", 'confectioners', text)\n",
    "    text = re.sub(r\"confectioner'?s\", 'confectioners', text)\n",
    "    text = re.sub(r\"hershey'?s\", 'hersheys', text)\n",
    "    text = re.sub(r\"hershey'?s'\", 'hersheys', text)\n",
    "    \n",
    "    # Replace \"half-and-half\" with \"halfandhalf\"\n",
    "    text = text.replace('half-and-half', '')\n",
    "    text = text.replace('peanut butter chocolate chip cookie', 'peanut butter, chocolate chip, cookie')\n",
    "    text = text.replace('the traditional decoration is ', '')\n",
    "    text = text.replace('of sauce', '')\n",
    "    text = text.replace('portabella', 'portobello')\n",
    "    text = text.replace('portabello', 'portobello')\n",
    "    text = text.replace('pears', 'pear')\n",
    "    text = text.replace('halfandhalf', '')\n",
    "    text = text.replace('at room temperature', '')\n",
    "    text = text.replace('for the topping', '')\n",
    "    text = text.replace('broken into piece', '')\n",
    "    text = text.replace('breadcrumb', 'bread crumb')\n",
    "    text = text.replace('spring mix salad green', 'spring salad green')\n",
    "    text = text.replace('spring salad green mix', 'spring salad green')\n",
    "    text = text.replace('tomatoes', 'tomato')\n",
    "    text = text.replace('crabmeat', 'crab meat')\n",
    "    text = text.replace('bleu', 'blue')\n",
    "    text = text.replace('gruyère', 'gruyere')\n",
    "    text = text.replace('bbq', 'barbeque')\n",
    "    text = text.replace('store bought', '')\n",
    "    text = text.replace('another bread such as sourdough' , 'sourdough')\n",
    "    text = text.replace('frozen ' , '')\n",
    "\n",
    "    \n",
    "    # Remove fraction characters\n",
    "    text = re.sub(r'[\\u00BC-\\u00BE\\u2150-\\u215E]', '', text)\n",
    "    \n",
    "    ingredlist = []\n",
    "    for ingred in text.split(\", \"):\n",
    "        # Remove measurements like \"8-ounce\"\n",
    "        ingred = re.sub(r'\\d+-ounce ', '', ingred)\n",
    "        # Remove digits\n",
    "        ingred = re.sub(r'\\d', '', ingred)\n",
    "        ingred = re.sub('\\w*\\d\\w*', ' ', ingred)\n",
    "        ingred = re.sub(r'\\s+', ' ', ingred)  # Remove extra whitespace\n",
    "        ingred = re.sub('[%s]' % re.escape(string.punctuation), ' ', ingred)\n",
    "        ingred = ingred.replace('/', ' ')     # Remove slashes\n",
    "        ingred = ingred.replace(')', '')      # Remove closing parenthesis\n",
    "        ingred = ingred.replace('.', '')      # Remove dot\n",
    "        ingred = ingred.replace('-', '')      # Remove hyphen\n",
    "        ingred = ingred.replace('\"', '')      # Remove hyphen\n",
    "        ingred = ingred.replace(\"'\", '')      # Remove hyphen\n",
    "        ingred = ingred.replace(\"&\", '')      # Remove hyphen\n",
    "        ingred = ingred.replace(' and ', ', ')     # Replace \" and \" with \", \"\n",
    "        ingred = ingred.replace('flour for', ', ')     # Replace \" and \" with \", \"\n",
    "        ingred = ingred.replace('of sauce', '')     # Replace \" and \" with \", \"\n",
    "        ingred = ingred.replace(' stuffed with ', ', ')     # Replace \" and \" with \", \"\n",
    "        ingred = ingred.replace('another bread such as ' , '')     # Replace \" and \" with \", \"\n",
    "        ingred = ingred.replace(' about ', ', ')     # Replace \" and \" with \", \"\n",
    "        ingred = ingred.replace(' with ', ', ')     # Replace \" and \" with \", \"\n",
    "        ingred = ingred.replace(' roll ', ', ')     # Replace \" and \" with \", \"\n",
    "        ingred = ingred.replace(' or ', ', ')     # Replace \" and \" with \", \"\n",
    "        ingred = ingred.replace(' in ', ', ')     # Replace \" and \" with \", \"\n",
    "        ingred = ' ' + ingred + ' '# Padding in case measure_word is first or last\n",
    "        for measure_word in measure_words:    # Remove measure words\n",
    "            ingred = ingred.replace(' ' + measure_word + ' ', ' ')\n",
    "        ingred = ingred.replace(' or ', ', ') # Replace \" or \" with \", \"\n",
    "        ingred = ingred.strip().lower()       # Strip leading/trailing whitespace and convert to lowercase\n",
    "        ingredlist.append(ingred)\n",
    "        cleaned_text = ', '.join(ingredlist)\n",
    "        cleaned_text = re.sub(r'\\s+', ' ', cleaned_text)  # Ensure single spaces\n",
    "        cleaned_text = re.sub(r'\\b(\\w+)\\s*,\\s*\\1\\b', r'\\1', cleaned_text)  # Remove repeated words separated by commas\n",
    "        cleaned_text = re.sub(r',\\s*,', ',', cleaned_text)  # Remove extra commas\n",
    "        cleaned_text = re.sub(r'\\s*,\\s*', ', ', cleaned_text.strip())  # Ensure proper comma spacing\n",
    "    return cleaned_text"
   ]
  },
  {
   "cell_type": "code",
   "execution_count": 58,
   "metadata": {},
   "outputs": [],
   "source": [
    "df['Ingredients'] = df['All Ingredients'].apply(clean_once)"
   ]
  },
  {
   "cell_type": "code",
   "execution_count": 59,
   "metadata": {},
   "outputs": [
    {
     "data": {
      "text/plain": [
       "\"2 cups self-rising flour, 1 1/2 cups heavy cream, 3 tablespoons butter (melted), 1 tablespoon brown sugar, 2 teaspoons ground cinnamon, 1 cup confectioner's sugar, 1/4 cups heavy cream, 1 teaspoon vanilla extract\""
      ]
     },
     "execution_count": 59,
     "metadata": {},
     "output_type": "execute_result"
    }
   ],
   "source": [
    "df['All Ingredients'][199]"
   ]
  },
  {
   "cell_type": "code",
   "execution_count": 60,
   "metadata": {},
   "outputs": [
    {
     "data": {
      "text/plain": [
       "'self rising flour, heavy cream, butter, brown sugar, ground cinnamon, confectioners sugar, heavy cream, vanilla extract'"
      ]
     },
     "execution_count": 60,
     "metadata": {},
     "output_type": "execute_result"
    }
   ],
   "source": [
    "df['Ingredients'][199]"
   ]
  },
  {
   "cell_type": "code",
   "execution_count": 61,
   "metadata": {},
   "outputs": [],
   "source": [
    "def word_singularizer(word):\n",
    "    nlp_word = nlp(word)[0]\n",
    "    lemma = nlp_word.text\n",
    "    if nlp_word.tag_ in {\"NNS\", \"NNPS\"}:\n",
    "        lemma = nlp_word.lemma_\n",
    "    return lemma\n",
    "\n",
    "def text_singularizer(text):\n",
    "    ingredlist = []\n",
    "    for ingred in text.split(', '):\n",
    "        new_list = []\n",
    "        for word in ingred.split():\n",
    "            new_list.append(word_singularizer(word))\n",
    "        ingred = ' '.join(new_list)\n",
    "        ingredlist.append(ingred)        \n",
    "    return ', '.join(ingredlist)"
   ]
  },
  {
   "cell_type": "code",
   "execution_count": 62,
   "metadata": {},
   "outputs": [],
   "source": [
    "df['Ingredients'] = df['Ingredients'].fillna('')"
   ]
  },
  {
   "cell_type": "code",
   "execution_count": 63,
   "metadata": {},
   "outputs": [
    {
     "data": {
      "text/plain": [
       "'cream cheese, butter, confectioners sugar, molasses, vanilla extract, ginger, ground cinnamon, toffee bits'"
      ]
     },
     "execution_count": 63,
     "metadata": {},
     "output_type": "execute_result"
    }
   ],
   "source": [
    "teststr = df['Ingredients'][172]\n",
    "\n",
    "teststr"
   ]
  },
  {
   "cell_type": "code",
   "execution_count": 64,
   "metadata": {},
   "outputs": [],
   "source": [
    "unwanted_phrases = ['red skinned','flour for','for the topping','royal blue gel paste ','quick cooking','quick cook','cut into cube','for griddle','cream of chicken soup cream of chicken soup of','cream of','condensed cream of','to drizzle','cut into','fat free ','on the cob','dripping from','easy blender','dressing of choice', 'each tortellini','store bought soup','equal size', 'm ms','for topping', 'for rolling cookie','broken into chunks','bulbs of', 'with juice', 'more for tops','box duncan hines','bone in','box duncan hine',\n",
    "                    'egg shaped','about that','add in','gluten free','day glazed', 'package unflavored', 'candy coated','strawberry flavored','stuffed with','slices thin', 'thinly sliced', 'all purpose','boneless skinless', 'half-and-half', 'thick-cut', 'thick cut', 'finely grated','hard boiled', 'pieces cooked', 'for garnish','to garnish', 'to cover', 'zest of','the traditional decoration is','frozen','into cube','into', 'thawed',\n",
    "                    'restaurant style','store bought','other decoration','black bean black bean','optional mix in','optional topping', 'the best','round of','long grain', 'low sugar', 'low sodium','head of', 'a little for handling','another bread such as','oven cooked','cooked shredded smoked','hard cooked', 'grated fresh','strong brewed', 'for deep fried', 'if used', 'in water', 'equal size','a little for handling', 'for deep frying', 'of espresso powder','of sauce','of sugar', 'top round']\n",
    "unwanted_words = ['cooked','','coarsely','white','yellow','deviled','full','freshly','head','heaping','petite','pure','roast','cold','sliced','soft','spring','spiral','warm','heavy','cut','store bought','tablespoon','storebought','about', 'favourite', 'favorite','breading','cream of chicken soup of water','bulb','jellied','reserved','herbed','sized','unsulphured','marinated','rubbed','grilled','stewed','mixed','undrained', 'colored','shelled','toasted', 'chilled','glazed','coated','malted', 'xl sized', 'unbaked','unflavored','creamed', 'sauuted', 'overripe', 'ripe', 'spread','rolled', 'granulated', 'hot', 'packed', 'plain', 'thinly', 'dried', 'unsweetened', 'roasted', 'boneless', 'skinless', 'cubed', 'minced', 'crumbled', 'assorted', 'softened', 'sharp',  'boiling', 'rinsed', 'drained', 'crushed', 'popped', 'thin', 'light', 'raw', 'natural', 'oven-cooked', \n",
    "                 'deseeded','grapeseed', 'cooked', 'steamed','roughly','black eyed','shredded', 'smoked', 'homemade', 'reduced', 'mild',  'baked', 'seedless', 'new', 'old', 'melted', 'pieces', 'finely', 'twirl', 'boiled', 'lump', 'pulled', 'blackened', 'bag', 'sundried', 'prepared', 'whipped', 'dry', 'wet', 'uncooked', 'recipe','package','packet','pan','regular','pan','roll','s','loaf',\n",
    "                 'frozen','pickled', 'mix','frosting','grated','grilled', 'packed', 'large', 'small', 'medium', 'fresh', 'ground', 'diced', 'chopped', 'neutral', 'slider', 'sheet','boneless', 'breasts', 'breast', 'skinless', 'salted', 'filled', 'brewed','dried','shaved','refried', 'canned', 'mashed', 'evaporated', 'seasoned', 'refigerated', 'distilled', 'caramelized','to', 'xl','bags','ball', 'cup','jumbo','mini','of sauce','one'\n",
    "                 'thawed','crispy', 'firmly','fine','english','yolk','active','violet gel paste ','the traditional decoration is','sweet','round','ever','peeled', 'pillsbury','cap','cutlet','from', 'flaked',  'pasteurized','pittled', 'sweetened', 'seasoned','half','another bread such as', 'best', 'unsalted','thick','thin','with bone in', 'boil','unpilled', 'fried', 'halved', 'canned', 'refrigerated', 'one','refried', 'preferred', 'slice', 'fashioned', 'quarted', 'quartered', 'sweetened', 'unpeeled', 'pitted', 'deveined','perfect','piece','pinch']\n",
    "\n",
    "\n",
    "def remove_unwanted_words_and_phrases(text):\n",
    "    # Remove unwanted phrases\n",
    "    for phrase in unwanted_phrases:\n",
    "        text = re.sub(r'\\b' + re.escape(phrase) + r'\\b', '', text)\n",
    "    \n",
    "    # Remove unwanted words\n",
    "    words = text.split(', ')\n",
    "    cleaned_words = []\n",
    "    for word in words:\n",
    "        tokens = word.split()\n",
    "        cleaned_tokens = [token for token in tokens if token not in unwanted_words]\n",
    "        cleaned_words.append(' '.join(cleaned_tokens))\n",
    "    \n",
    "    # Join cleaned words and handle any extra spaces or commas\n",
    "    cleaned_text = ', '.join(cleaned_words).replace(' ,', ',').strip()\n",
    "    cleaned_text = re.sub(r'\\s+', ' ', cleaned_text)\n",
    "    cleaned_text = re.sub(r',\\s*,', ',', cleaned_text)\n",
    "    cleaned_text = re.sub(r'\\s*,\\s*', ', ', cleaned_text)\n",
    "    \n",
    "    return cleaned_text"
   ]
  },
  {
   "cell_type": "code",
   "execution_count": 65,
   "metadata": {},
   "outputs": [
    {
     "name": "stdout",
     "output_type": "stream",
     "text": [
      "Preprocessed:\n",
      " cream cheese, butter, confectioners sugar, molasses, vanilla extract, ginger, ground cinnamon, toffee bits \n",
      "\n",
      "Singularized:\n",
      " cream cheese, butter, confectioner sugar, molasses, vanilla extract, ginger, ground cinnamon, toffee bit \n",
      "\n",
      "Unwanted Words and Phrases Removed:\n",
      " cream cheese, butter, confectioner sugar, molasses, vanilla extract, ginger, cinnamon, toffee bit \n",
      "\n"
     ]
    }
   ],
   "source": [
    "print(\"Preprocessed:\\n\", teststr, '\\n')\n",
    "singularized_text = text_singularizer(teststr)\n",
    "print(\"Singularized:\\n\", singularized_text, '\\n')\n",
    "unwanted_words_removed_text = remove_unwanted_words_and_phrases(singularized_text)\n",
    "print(\"Unwanted Words and Phrases Removed:\\n\", unwanted_words_removed_text, '\\n')"
   ]
  },
  {
   "cell_type": "code",
   "execution_count": 66,
   "metadata": {},
   "outputs": [],
   "source": [
    "df['Ingredients'] = df['Ingredients'].apply(lambda x: ', '.join(x) if isinstance(x, list) else x)"
   ]
  },
  {
   "cell_type": "code",
   "execution_count": 67,
   "metadata": {},
   "outputs": [
    {
     "data": {
      "text/html": [
       "<div>\n",
       "<style scoped>\n",
       "    .dataframe tbody tr th:only-of-type {\n",
       "        vertical-align: middle;\n",
       "    }\n",
       "\n",
       "    .dataframe tbody tr th {\n",
       "        vertical-align: top;\n",
       "    }\n",
       "\n",
       "    .dataframe thead th {\n",
       "        text-align: right;\n",
       "    }\n",
       "</style>\n",
       "<table border=\"1\" class=\"dataframe\">\n",
       "  <thead>\n",
       "    <tr style=\"text-align: right;\">\n",
       "      <th></th>\n",
       "      <th>Category</th>\n",
       "      <th>Title</th>\n",
       "      <th>Total Time</th>\n",
       "      <th>All Ingredients</th>\n",
       "      <th>Ingredient Groups</th>\n",
       "      <th>Instructions</th>\n",
       "      <th>Nutrition</th>\n",
       "      <th>Cuisine</th>\n",
       "      <th>Yields</th>\n",
       "      <th>Image</th>\n",
       "      <th>Ratings</th>\n",
       "      <th>Rating Counts</th>\n",
       "      <th>Description</th>\n",
       "      <th>Status</th>\n",
       "      <th>Ingredients</th>\n",
       "      <th>IngredientsProcessed</th>\n",
       "      <th>IngredientsRemovedAdj</th>\n",
       "    </tr>\n",
       "    <tr>\n",
       "      <th>ID</th>\n",
       "      <th></th>\n",
       "      <th></th>\n",
       "      <th></th>\n",
       "      <th></th>\n",
       "      <th></th>\n",
       "      <th></th>\n",
       "      <th></th>\n",
       "      <th></th>\n",
       "      <th></th>\n",
       "      <th></th>\n",
       "      <th></th>\n",
       "      <th></th>\n",
       "      <th></th>\n",
       "      <th></th>\n",
       "      <th></th>\n",
       "      <th></th>\n",
       "      <th></th>\n",
       "    </tr>\n",
       "  </thead>\n",
       "  <tbody>\n",
       "    <tr>\n",
       "      <th>1</th>\n",
       "      <td>Main Course</td>\n",
       "      <td>Swedish Meatballs Recipe</td>\n",
       "      <td>30</td>\n",
       "      <td>1 pound ground beef, 2 tablespoons diced onion...</td>\n",
       "      <td>IngredientGroup(ingredients=['1 pound ground b...</td>\n",
       "      <td>For the meatballs:\\r\\nMix together all ingredi...</td>\n",
       "      <td>{'calories': '220 kcal', 'carbohydrateContent'...</td>\n",
       "      <td>American</td>\n",
       "      <td>6 servings</td>\n",
       "      <td>https://addapinch.com/wp-content/uploads/2022/...</td>\n",
       "      <td>4.95</td>\n",
       "      <td>672</td>\n",
       "      <td>The Best Swedish Meatballs feature tender meat...</td>\n",
       "      <td>Complete</td>\n",
       "      <td>ground beef, diced onion, egg, stone house sea...</td>\n",
       "      <td>ground beef, diced onion, egg, stone house sea...</td>\n",
       "      <td>beef, onion, egg, stone house seasoning, allsp...</td>\n",
       "    </tr>\n",
       "    <tr>\n",
       "      <th>2</th>\n",
       "      <td>Appetizer,Main Course</td>\n",
       "      <td>Baked Crispy Buffalo Chicken Wings Recipe</td>\n",
       "      <td>60</td>\n",
       "      <td>6 pounds chicken wings (trimmed), 3 tablespoon...</td>\n",
       "      <td>IngredientGroup(ingredients=['6 pounds chicken...</td>\n",
       "      <td>Preheat the oven to 425º F. Line a baking shee...</td>\n",
       "      <td>{'servingSize': '0.25 pound', 'calories': '419...</td>\n",
       "      <td>American</td>\n",
       "      <td>8 servings</td>\n",
       "      <td>https://addapinch.com/wp-content/uploads/2018/...</td>\n",
       "      <td>5.00</td>\n",
       "      <td>701</td>\n",
       "      <td>Crispy Baked Buffalo Chicken Wings that are so...</td>\n",
       "      <td>Complete</td>\n",
       "      <td>chicken wings, cornstarch, stone house seasoni...</td>\n",
       "      <td>chicken wing, cornstarch, stone house seasonin...</td>\n",
       "      <td>chicken wing, cornstarch, stone house seasonin...</td>\n",
       "    </tr>\n",
       "    <tr>\n",
       "      <th>3</th>\n",
       "      <td>Appetizer</td>\n",
       "      <td>Guacamole Recipe</td>\n",
       "      <td>5</td>\n",
       "      <td>2 avocados (halved, seeded, and peeled), 1 tab...</td>\n",
       "      <td>IngredientGroup(ingredients=['2 avocados (halv...</td>\n",
       "      <td>Mash avocado with a fork or potato masher in a...</td>\n",
       "      <td>{'carbohydrateContent': '7 g', 'proteinContent...</td>\n",
       "      <td>Mexican</td>\n",
       "      <td>6 servings</td>\n",
       "      <td>https://addapinch.com/wp-content/uploads/2013/...</td>\n",
       "      <td>4.50</td>\n",
       "      <td>84</td>\n",
       "      <td>This easy Guacamole recipe, made with fresh in...</td>\n",
       "      <td>Complete</td>\n",
       "      <td>avocados, lime juice, sea salt, clove garlic, ...</td>\n",
       "      <td>avocados, lime juice, sea salt, clove garlic, ...</td>\n",
       "      <td>avocados, lime juice, sea salt, clove garlic, ...</td>\n",
       "    </tr>\n",
       "    <tr>\n",
       "      <th>4</th>\n",
       "      <td>Appetizer</td>\n",
       "      <td>Perfect Queso Recipe</td>\n",
       "      <td>5</td>\n",
       "      <td>1/2 cup pepper jack cheese, 1 cup grated white...</td>\n",
       "      <td>IngredientGroup(ingredients=['1/2 cup pepper j...</td>\n",
       "      <td>Stovetop Queso:\\r\\nAdd cheeses and half of the...</td>\n",
       "      <td>{'calories': '534 kcal', 'carbohydrateContent'...</td>\n",
       "      <td>American</td>\n",
       "      <td>2 servings</td>\n",
       "      <td>https://addapinch.com/wp-content/uploads/2015/...</td>\n",
       "      <td>5.00</td>\n",
       "      <td>720</td>\n",
       "      <td>This easy and delicious Queso recipe is made w...</td>\n",
       "      <td>Complete</td>\n",
       "      <td>pepper jack cheese, grated white american chee...</td>\n",
       "      <td>pepper jack cheese, grated white american chee...</td>\n",
       "      <td>pepper jack cheese, american cheese, queso che...</td>\n",
       "    </tr>\n",
       "    <tr>\n",
       "      <th>5</th>\n",
       "      <td>Appetizer</td>\n",
       "      <td>Buffalo Chicken Dip Recipe</td>\n",
       "      <td>25</td>\n",
       "      <td>2 cups chicken breasts (cooked and shredded), ...</td>\n",
       "      <td>IngredientGroup(ingredients=['2 cups chicken b...</td>\n",
       "      <td>Preheat oven to 350º F.\\r\\nMix together all in...</td>\n",
       "      <td>{'calories': '106 kcal', 'proteinContent': '4 ...</td>\n",
       "      <td>American</td>\n",
       "      <td>12 servings</td>\n",
       "      <td>https://addapinch.com/wp-content/uploads/2024/...</td>\n",
       "      <td>5.00</td>\n",
       "      <td>451</td>\n",
       "      <td>Buffalo Chicken Dip Recipe is the best easy ap...</td>\n",
       "      <td>Complete</td>\n",
       "      <td>chicken breasts, cream cheese, ranch dressing,...</td>\n",
       "      <td>chicken breast, cream cheese, ranch dressing, ...</td>\n",
       "      <td>chicken, cream cheese, ranch dressing, buffalo...</td>\n",
       "    </tr>\n",
       "  </tbody>\n",
       "</table>\n",
       "</div>"
      ],
      "text/plain": [
       "                 Category                                      Title  \\\n",
       "ID                                                                     \n",
       "1             Main Course                   Swedish Meatballs Recipe   \n",
       "2   Appetizer,Main Course  Baked Crispy Buffalo Chicken Wings Recipe   \n",
       "3               Appetizer                           Guacamole Recipe   \n",
       "4               Appetizer                       Perfect Queso Recipe   \n",
       "5               Appetizer                 Buffalo Chicken Dip Recipe   \n",
       "\n",
       "    Total Time                                    All Ingredients  \\\n",
       "ID                                                                  \n",
       "1           30  1 pound ground beef, 2 tablespoons diced onion...   \n",
       "2           60  6 pounds chicken wings (trimmed), 3 tablespoon...   \n",
       "3            5  2 avocados (halved, seeded, and peeled), 1 tab...   \n",
       "4            5  1/2 cup pepper jack cheese, 1 cup grated white...   \n",
       "5           25  2 cups chicken breasts (cooked and shredded), ...   \n",
       "\n",
       "                                    Ingredient Groups  \\\n",
       "ID                                                      \n",
       "1   IngredientGroup(ingredients=['1 pound ground b...   \n",
       "2   IngredientGroup(ingredients=['6 pounds chicken...   \n",
       "3   IngredientGroup(ingredients=['2 avocados (halv...   \n",
       "4   IngredientGroup(ingredients=['1/2 cup pepper j...   \n",
       "5   IngredientGroup(ingredients=['2 cups chicken b...   \n",
       "\n",
       "                                         Instructions  \\\n",
       "ID                                                      \n",
       "1   For the meatballs:\\r\\nMix together all ingredi...   \n",
       "2   Preheat the oven to 425º F. Line a baking shee...   \n",
       "3   Mash avocado with a fork or potato masher in a...   \n",
       "4   Stovetop Queso:\\r\\nAdd cheeses and half of the...   \n",
       "5   Preheat oven to 350º F.\\r\\nMix together all in...   \n",
       "\n",
       "                                            Nutrition   Cuisine       Yields  \\\n",
       "ID                                                                             \n",
       "1   {'calories': '220 kcal', 'carbohydrateContent'...  American   6 servings   \n",
       "2   {'servingSize': '0.25 pound', 'calories': '419...  American   8 servings   \n",
       "3   {'carbohydrateContent': '7 g', 'proteinContent...   Mexican   6 servings   \n",
       "4   {'calories': '534 kcal', 'carbohydrateContent'...  American   2 servings   \n",
       "5   {'calories': '106 kcal', 'proteinContent': '4 ...  American  12 servings   \n",
       "\n",
       "                                                Image  Ratings  Rating Counts  \\\n",
       "ID                                                                              \n",
       "1   https://addapinch.com/wp-content/uploads/2022/...     4.95            672   \n",
       "2   https://addapinch.com/wp-content/uploads/2018/...     5.00            701   \n",
       "3   https://addapinch.com/wp-content/uploads/2013/...     4.50             84   \n",
       "4   https://addapinch.com/wp-content/uploads/2015/...     5.00            720   \n",
       "5   https://addapinch.com/wp-content/uploads/2024/...     5.00            451   \n",
       "\n",
       "                                          Description    Status  \\\n",
       "ID                                                                \n",
       "1   The Best Swedish Meatballs feature tender meat...  Complete   \n",
       "2   Crispy Baked Buffalo Chicken Wings that are so...  Complete   \n",
       "3   This easy Guacamole recipe, made with fresh in...  Complete   \n",
       "4   This easy and delicious Queso recipe is made w...  Complete   \n",
       "5   Buffalo Chicken Dip Recipe is the best easy ap...  Complete   \n",
       "\n",
       "                                          Ingredients  \\\n",
       "ID                                                      \n",
       "1   ground beef, diced onion, egg, stone house sea...   \n",
       "2   chicken wings, cornstarch, stone house seasoni...   \n",
       "3   avocados, lime juice, sea salt, clove garlic, ...   \n",
       "4   pepper jack cheese, grated white american chee...   \n",
       "5   chicken breasts, cream cheese, ranch dressing,...   \n",
       "\n",
       "                                 IngredientsProcessed  \\\n",
       "ID                                                      \n",
       "1   ground beef, diced onion, egg, stone house sea...   \n",
       "2   chicken wing, cornstarch, stone house seasonin...   \n",
       "3   avocados, lime juice, sea salt, clove garlic, ...   \n",
       "4   pepper jack cheese, grated white american chee...   \n",
       "5   chicken breast, cream cheese, ranch dressing, ...   \n",
       "\n",
       "                                IngredientsRemovedAdj  \n",
       "ID                                                     \n",
       "1   beef, onion, egg, stone house seasoning, allsp...  \n",
       "2   chicken wing, cornstarch, stone house seasonin...  \n",
       "3   avocados, lime juice, sea salt, clove garlic, ...  \n",
       "4   pepper jack cheese, american cheese, queso che...  \n",
       "5   chicken, cream cheese, ranch dressing, buffalo...  "
      ]
     },
     "execution_count": 67,
     "metadata": {},
     "output_type": "execute_result"
    }
   ],
   "source": [
    "  # Takes 2 min per 1000 rows\n",
    "df['IngredientsProcessed'] = df['Ingredients'].apply(text_singularizer)# Takes 1 min per 1000 rows\n",
    "df['IngredientsRemovedAdj'] = df['IngredientsProcessed'].apply(remove_unwanted_words_and_phrases)# Takes 1 min per 1000 rows\n",
    "df.head()"
   ]
  },
  {
   "cell_type": "code",
   "execution_count": 68,
   "metadata": {},
   "outputs": [],
   "source": [
    "def remove_duplicates(recipe):\n",
    "    ingredients = recipe.split(', ')\n",
    "    unique_ingredients = list(dict.fromkeys(ingredients))  # Remove duplicates while maintaining order\n",
    "    return ', '.join(unique_ingredients)\n",
    "\n",
    "# Apply the function to each row in the 'Ingredients' column\n",
    "df['IngredientsRemovedAdj'] = df['IngredientsRemovedAdj'].apply(remove_duplicates)"
   ]
  },
  {
   "cell_type": "code",
   "execution_count": 69,
   "metadata": {},
   "outputs": [
    {
     "name": "stdout",
     "output_type": "stream",
     "text": [
      "chocolate sandwich cookie, butter, cream cheese, peanut butter, confectioner sugar, cream topping, vanilla ice cream, miniature peanut butter, chocolate sauce\n",
      "['chocolate', 'sandwich', 'cookie', 'butter', 'cream', 'cheese', 'peanut', 'butter', 'confectioner', 'sugar', 'cream', 'topping', 'vanilla', 'ice', 'cream', 'miniature', 'peanut', 'butter', 'chocolate', 'sauce']\n"
     ]
    }
   ],
   "source": [
    "test = df.IngredientsRemovedAdj[386]\n",
    "tokens = RegexpTokenizer(r'\\w+').tokenize(test)\n",
    "print(test)\n",
    "print(tokens)\n"
   ]
  },
  {
   "cell_type": "code",
   "execution_count": 70,
   "metadata": {},
   "outputs": [],
   "source": [
    "def commatokenizer(text):\n",
    "    return text.split(', ')\n",
    "\n",
    "def get_nouns(text):\n",
    "    tokens = RegexpTokenizer(r'\\w+').tokenize(text)\n",
    "    nouns = {'NN', 'NNS', 'NNP', 'NNPS', 'NOUN', 'PROPN', 'NE', 'NNE', 'NR'}\n",
    "    nounlist = [token for token in tokens if nlp(token)[0].tag_ in nouns]\n",
    "    return ', '.join(nounlist)\n",
    "\n",
    "def mytokenizer(combinedlist):\n",
    "    ingredlist = combinedlist[0].split(', ')\n",
    "    nounlist = combinedlist[1].split(', ')\n",
    "    bigramlist = []\n",
    "    for ingred in ingredlist:\n",
    "        bigrms = [bi for bi in bigrams(ingred.split())]\n",
    "        for bi in bigrms:\n",
    "            if (bi[0] in nounlist) or (bi[1] in nounlist):\n",
    "                bigramlist.append(' '.join((bi[0], bi[1])))\n",
    "    return ', '.join(bigramlist + nounlist)"
   ]
  },
  {
   "cell_type": "code",
   "execution_count": 71,
   "metadata": {},
   "outputs": [
    {
     "name": "stdout",
     "output_type": "stream",
     "text": [
      "Original Text:\n",
      " chocolate sandwich cookie, butter, cream cheese, peanut butter, confectioner sugar, cream topping, vanilla ice cream, miniature peanut butter, chocolate sauce \n",
      "\n",
      "Nouns:\n",
      " chocolate, sandwich, cookie, butter, cream, cheese, peanut, butter, confectioner, sugar, cream, vanilla, ice, cream, peanut, butter, chocolate \n",
      "\n",
      "My Tokenizer Output:\n",
      " chocolate sandwich, sandwich cookie, cream cheese, peanut butter, confectioner sugar, cream topping, vanilla ice, ice cream, miniature peanut, peanut butter, chocolate sauce, chocolate, sandwich, cookie, butter, cream, cheese, peanut, butter, confectioner, sugar, cream, vanilla, ice, cream, peanut, butter, chocolate \n",
      "\n",
      "Comma Tokenizer Output:\n",
      " ['chocolate sandwich', 'sandwich cookie', 'cream cheese', 'peanut butter', 'confectioner sugar', 'cream topping', 'vanilla ice', 'ice cream', 'miniature peanut', 'peanut butter', 'chocolate sauce', 'chocolate', 'sandwich', 'cookie', 'butter', 'cream', 'cheese', 'peanut', 'butter', 'confectioner', 'sugar', 'cream', 'vanilla', 'ice', 'cream', 'peanut', 'butter', 'chocolate']\n"
     ]
    }
   ],
   "source": [
    "teststr = df.IngredientsRemovedAdj[386]\n",
    "nouns = get_nouns(teststr)\n",
    "combined = [teststr, nouns]\n",
    "\n",
    "print(\"Original Text:\\n\", teststr, '\\n')\n",
    "print(\"Nouns:\\n\", nouns, '\\n')\n",
    "print(\"My Tokenizer Output:\\n\", mytokenizer(combined), '\\n')\n",
    "print(\"Comma Tokenizer Output:\\n\", commatokenizer(mytokenizer(combined)))"
   ]
  },
  {
   "cell_type": "code",
   "execution_count": 72,
   "metadata": {},
   "outputs": [],
   "source": [
    "ingredient_mapping = {\n",
    "    'chocolate chip chocolate bar':'chocolate',\n",
    "    'air fryer potato':'pototo',\n",
    "    'almond extract':'almond',\n",
    "    'another bread such as sourdough':'sourdough',\n",
    "    'apple cider concentrate':'apple cider',\n",
    "    'applesauce':'apple sauce',\n",
    "    'artichoke heart':'artichoke',\n",
    "    'asparagus spear':'asparagus',\n",
    "    'avocado puree':'avocado',\n",
    "    'avocados':'avocado',\n",
    "    'bacon dripping':'bacon',\n",
    "    'bacon jam':'bacon',\n",
    "    'bacon vinaigrette':'bacon',\n",
    "    'bake shortbread cookie':'shortbread cookie',\n",
    "    'basil leaves':'basil',\n",
    "    'balsamic roast beef':'balsamic',\n",
    "    'beef stock':'beef broth',\n",
    "    'blue cheese crumble':'blue cheese',\n",
    "    'breakfast sausage':'sausage',\n",
    "    'broccoli floret':'broccoli',\n",
    "    'broccoli slaw':'broccoli',\n",
    "    'pork chop': 'pork',\n",
    "    'pork butt': 'pork',\n",
    "    'butter lettuce leaves': 'butter lettuce',\n",
    "    'canola oil': 'canola',\n",
    "    'caramel sauce': 'caramel',\n",
    "    'carrot carrot': 'carrot',\n",
    "    'celery leaves': 'celery',\n",
    "    'cherry pie filling': 'cherry pie',\n",
    "    'chewy chocolate chip cookie': 'cookie',\n",
    "    'chewy ginger molasses cookie': 'cookie',\n",
    "    'chicken leg': 'chicken',\n",
    "    'chicken tender': 'chicken',\n",
    "    'chicken thigh': 'chicken',\n",
    "    'chicken wing': 'chicken',\n",
    "    'chicken wing': 'chicken',\n",
    "    'chocolate bar': 'chocolate',\n",
    "    'chocolate chip': 'chocolate',\n",
    "    'chocolate chunks': 'chocolate',\n",
    "    'chocolate ganache filling': 'chocolate ganache',\n",
    "    'chocolate graham cracker crumb': 'chocolate ganache cracer',\n",
    "    'chocolate ice cream': 'ice cream',\n",
    "    'chocolate kiss candy': 'chocolate candy',\n",
    "    'chocolate sugar cookie': 'chocolate cookie',\n",
    "    'chocolate wafer cookie': 'chocolate wafer',\n",
    "    'chuck roast': 'chuck',\n",
    "    'clove garlic': 'garlic',\n",
    "    'cloves garlic': 'garlic',\n",
    "    'coca cola bbq sauce': 'coca cola',\n",
    "    'cocktail peanut': 'peanut',\n",
    "    'cocktail sausage': 'sausage',\n",
    "    'cocoa mix': 'cocoa',\n",
    "    'cocoa powder': 'cocoa',\n",
    "    'coconut amino': 'coconut',\n",
    "    'coconut flake': 'coconut',\n",
    "    'coleslaw mix': 'coleslaw',\n",
    "    'collard green leaves': 'collard green',\n",
    "    'cookie icing': 'cookie',\n",
    "    'cookie dough dip': 'cookie',\n",
    "    'corn kernel niblet corn': 'corn kernel',\n",
    "    'cornstarch': 'corn starch',\n",
    "    'zucchini squash': 'zucchini',\n",
    "    'worcestershire sauce or coconut amino': 'worcestershire sauce',\n",
    "    'wholemeal flour': 'flour',\n",
    "    'white queso cheese': 'quesso cheese',\n",
    "    'white chocolate chip morsel': 'chocolate chip',\n",
    "    'white chocolate candy melt melting wafer': 'white chocolate candy',\n",
    "    'white chocolate buttercream': 'chocolate buttercream',\n",
    "    'white cheddar cheese': 'cheddar cheese',\n",
    "    'white bean': 'bean',\n",
    "    'white balsamic vinegar': 'balsamic vinegar',\n",
    "    'whipping cream cheese': 'whipping cream',\n",
    "    'violet gel paste food color': 'food color',\n",
    "    'vinaigrette dressing': 'vinaigrette',\n",
    "    'vegetable vegetable': 'vegetable',\n",
    "    'vanilla bean paste': 'vanilla bean',\n",
    "    'venison tenderloin': 'venison',\n",
    "    'venison roast': 'venison',\n",
    "    'turnip green': 'turnip',\n",
    "    'tortilla chip': 'tortilla',\n",
    "    'tomato tomato': 'tomato',\n",
    "    'tomato vinaigrette': 'vinaigrette',\n",
    "    'tomatillos': 'tomatillo',\n",
    "    'tabasco': 'tabasco',\n",
    "    'sugar sprinkles': 'sugar',\n",
    "    'strip bacon dripping': 'bacon',\n",
    "    'strip bacon': 'bacon',\n",
    "    'sugar cookie dough': 'sugar cookie',\n",
    "    'streusel topping': 'streusel',\n",
    "    'strawberry jell o': 'strawberry jello',\n",
    "    'sriracha sauce': 'sriracha',\n",
    "    'sriracha sauce': 'sriracha',\n",
    "    'sriracha chili sauce': 'sriracha',\n",
    "    'sprinkle fine sea salt': 'sea salt',\n",
    "    'spinach spinach': 'spinach',\n",
    "    'spaghetti noodle' : 'spaghetti',\n",
    "    'spaghetti squash' : 'spaghetti',\n",
    "    'southern caramel icing' : 'caramel',\n",
    "    'skirt' : 'skirt steak',\n",
    "    'sirloin steak' : 'sirloin',\n",
    "    'shortbread pie crust' : 'shortbread crust',\n",
    "    'sea salt flake' : 'sea salt',\n",
    "    'salmon filet' : 'salmon fillet',\n",
    "    'russet potato' : 'potato',\n",
    "    'rosemary leaves' : 'rosemary',\n",
    "    'roma potato' : 'potato',\n",
    "    'red pepper flake' : 'red pepper',\n",
    "    'red food coloring' : 'food coloring',\n",
    "    'raspberry preserves' : 'raspberry',\n",
    "    'raspberry preserves' : 'raspberry',\n",
    "    'pumpkin puree pumpkin puree' : 'pumpkin puree',\n",
    "    'pumpkin pie spice' : 'pumpkin pie',\n",
    "    'portobellos' : 'portobello',\n",
    "    'portobello mushroom' : 'portobello',\n",
    "    'pork tenderloin' : 'pork',\n",
    "    'pork sirloin' : 'pork',\n",
    "    'pork shoulder' : 'pork',\n",
    "    'pork loin' : 'pork',\n",
    "    'pork breakfast sausage' : 'sausage',\n",
    "    'pomegranate seed' : 'pomegranate',\n",
    "    'pomegranate juice' : 'pomegranate',\n",
    "    'plum tomato' : 'tomato',\n",
    "    'pinto bean pinto bean' : 'pinto bean',\n",
    "    'pineapple pineapple chunks' : 'pineapple',\n",
    "    'pineapple pineapple' : 'pineapple',\n",
    "    'pineapple jalapeno cream cheese' : 'pineapple',\n",
    "    'pineapple chunks' : 'pineapple',\n",
    "    'pimento pepper' : 'pimento',\n",
    "    'pimento cheese' : 'pimento',\n",
    "    'peppermint extract' : 'peppermint',\n",
    "    'peppermint chocolate chip' : 'chocolate chip',\n",
    "    'peppermint bark' : 'peppermint',\n",
    "    'peppermint candy' : 'candy',\n",
    "    'peanut butter chip' : 'peanut butter',\n",
    "    'peach barbeque sauce' : 'barbeque sauce',\n",
    "    'peach bbq sauce' : 'barbeque sauce',\n",
    "    'parsley leave' : 'parsley',\n",
    "    'parmesan' : 'parmesan cheese',\n",
    "    'oreos' : 'oreo cookie',\n",
    "    'oregano leaves' : 'oregano',\n",
    "    'oregano flake' : 'oregano',\n",
    "    'olive oil spray' : 'olive oil',\n",
    "    'of sauce' : 'sauce',\n",
    "    'nonstick cooking spray' : 'cooking spray',\n",
    "    'naan' : 'naan bread',\n",
    "    'mozzarella' : 'mozzarella cheese',\n",
    "    'milk chocolate chip' : 'chocolate chip',\n",
    "    'marshmallow creme' : 'marshmallow cream',\n",
    "    'lima bean lima bean' : 'lima bean',\n",
    "    'lettuce leaves' : 'lettuce',\n",
    "    'lettuce green' : 'lettuce',\n",
    "    'lemon curd' : 'lemon',\n",
    "    'lemon juice' : 'lemon',\n",
    "    'lemon lime soda' : 'lemon',\n",
    "    'lemon sugar' : 'lemon',\n",
    "    'lemon zest' : 'lemon',\n",
    "    'korean chili pepper powder' : 'pepper',\n",
    "    'jalapenos' : 'jalapeno',\n",
    "    'jalapeño' : 'pepper',\n",
    "    'hamburger bun' : 'bun',\n",
    "    'ham bone' : 'ham hock',\n",
    "    'gruyère cheese' : 'gruyere cheese',\n",
    "    'green tomatoes' : 'tomato',\n",
    "    'green tomato' : 'tomato',\n",
    "    'gravy balsamic roast beef' : 'beef',\n",
    "    'graham cracker crust' : 'graham cracker',\n",
    "    'graham cracker crumb' : 'graham cracker',\n",
    "    'grape tomato' : 'tomato',\n",
    "    'gorgonzola crumble':'gorgonzola cheese',\n",
    "    'gorgonzola cheese crumble':'gorgonzola cheese',\n",
    "    'garlic clove':'garlic',\n",
    "    'garlic cloves':'garlic',\n",
    "    'food color':'food coloring',\n",
    "    'flank steak':'flank',\n",
    "    'espresso powder':'espresso',\n",
    "    'egg white':'egg',\n",
    "    'each tortellini tortellini':'tortellini',\n",
    "    'cracker crumb':'cracker',\n",
    "    'dijon mustard powder':'dijon mustard',\n",
    "    'dark chocolate bar':'dark chocolate',\n",
    "    'dark chocolate chunks':'dark chocolate',\n",
    "    'crab meat':'crab',\n",
    "    'country ham':'ham',\n",
    "    'beef bouillon' : 'beef',\n",
    "    'beef brisket' : 'beef',\n",
    "    'beef tenderloin' : 'beef',\n",
    "    'blue cheese dipping sauce' : 'blue cheese',\n",
    "    'blue cheese dressing' : 'blue cheese',\n",
    "    'candy cane':'candy',\n",
    "    'candy corn':'candy',\n",
    "    'candy melt':'candy',\n",
    "    'candy pumpkins':'candy',\n",
    "    'caramel candy':'candy',\n",
    "    'catfish filet':'catfist',\n",
    "    'chicken tenderloin':'chicken',\n",
    "    'chocolate candy':'candy',\n",
    "    'chocolate ganache cracer':'chocolate ganache',\n",
    "    'coarse sugar':'sugar',\n",
    "    'cranberry cranberry':'cranberry',\n",
    "    'red pepper cream sauce':'cream sauce',\n",
    "    'pretzel twist':'pretzel',\n",
    "    'pototo':'potato',\n",
    "    'mint chocolate chip ice cream':'ice cream',\n",
    "    'lime juice':'lime',\n",
    "    'lime wedge':'lime',\n",
    "    'lime zest':'lime',\n",
    "    'fettuccine':'fettucine',\n",
    "    'chocolate candy melt melting wafer':'chocolate'\n",
    "    \n",
    "    # Add more mappings as needed\n",
    "    # Add more mappings as needed\n",
    "}"
   ]
  },
  {
   "cell_type": "code",
   "execution_count": 73,
   "metadata": {},
   "outputs": [],
   "source": [
    "def generalize_ingredients(ingredients, mapping):\n",
    "    # Split the ingredients by comma and strip any extra whitespace\n",
    "    ingredients_list = [ingredient.strip() for ingredient in ingredients.split(',')]\n",
    "    # Replace specific ingredients with their base forms\n",
    "    generalized_ingredients = [mapping.get(ingredient, ingredient) for ingredient in ingredients_list]\n",
    "    # Join the ingredients back into a string\n",
    "    return ', '.join(generalized_ingredients)"
   ]
  },
  {
   "cell_type": "code",
   "execution_count": 74,
   "metadata": {},
   "outputs": [],
   "source": [
    "df['IngredientsRemovedAdj'] = df['IngredientsRemovedAdj'].apply(lambda x: generalize_ingredients(x, ingredient_mapping))"
   ]
  },
  {
   "cell_type": "code",
   "execution_count": 75,
   "metadata": {},
   "outputs": [],
   "source": [
    "def process_ingredients(row):\n",
    "    final = remove_unwanted_words_and_phrases(row)\n",
    "    nouns = get_nouns(final)\n",
    "    combined = [final, nouns]\n",
    "    return mytokenizer(combined)"
   ]
  },
  {
   "cell_type": "code",
   "execution_count": 76,
   "metadata": {},
   "outputs": [],
   "source": [
    "df['TokenizedIngredients'] = df['IngredientsRemovedAdj'].apply(process_ingredients)"
   ]
  },
  {
   "cell_type": "code",
   "execution_count": 77,
   "metadata": {},
   "outputs": [
    {
     "name": "stdout",
     "output_type": "stream",
     "text": [
      "                                 IngredientsProcessed  \\\n",
      "ID                                                      \n",
      "1   ground beef, diced onion, egg, stone house sea...   \n",
      "2   chicken wing, cornstarch, stone house seasonin...   \n",
      "3   avocados, lime juice, sea salt, clove garlic, ...   \n",
      "4   pepper jack cheese, grated white american chee...   \n",
      "5   chicken breast, cream cheese, ranch dressing, ...   \n",
      "\n",
      "                                 TokenizedIngredients  \n",
      "ID                                                     \n",
      "1   stone house, house seasoning, olive oil, beef ...  \n",
      "2   corn starch, stone house, house seasoning, blu...  \n",
      "3   sea salt, roma tomato, lime, sea, salt, garlic...  \n",
      "4   pepper jack, jack cheese, american cheese, que...  \n",
      "5   cream cheese, ranch dressing, cheddar cheese, ...  \n"
     ]
    }
   ],
   "source": [
    "print(df[['IngredientsProcessed','TokenizedIngredients']].head())"
   ]
  },
  {
   "cell_type": "code",
   "execution_count": 78,
   "metadata": {},
   "outputs": [],
   "source": [
    "# df.to_csv('raw_combined_ingredients.csv', index=False)"
   ]
  },
  {
   "cell_type": "code",
   "execution_count": 79,
   "metadata": {},
   "outputs": [],
   "source": [
    "# df.to_excel('raw_combined_ingredients.xlsx', index=False, engine='openpyxl')"
   ]
  },
  {
   "cell_type": "code",
   "execution_count": 80,
   "metadata": {},
   "outputs": [
    {
     "data": {
      "text/plain": [
       "'stone house, house seasoning, olive oil, beef broth, worcestershire sauce, beef, onion, egg, stone, house, allspice, nutmeg, bread, cracker, parsley, olive, oil, butter, flour, beef, broth, broth, milk, cream, worcestershire'"
      ]
     },
     "execution_count": 80,
     "metadata": {},
     "output_type": "execute_result"
    }
   ],
   "source": [
    "df.iloc[0].TokenizedIngredients"
   ]
  },
  {
   "cell_type": "code",
   "execution_count": 81,
   "metadata": {},
   "outputs": [],
   "source": [
    "df0 = df.copy()\n",
    "df1 = df.copy()"
   ]
  },
  {
   "cell_type": "code",
   "execution_count": 82,
   "metadata": {},
   "outputs": [
    {
     "name": "stdout",
     "output_type": "stream",
     "text": [
      "1092\n"
     ]
    }
   ],
   "source": [
    "print(df[(df['Ratings'] >= 4) & (df['Rating Counts'] >= 4)]['Ratings'].count())\n"
   ]
  },
  {
   "cell_type": "code",
   "execution_count": 83,
   "metadata": {},
   "outputs": [
    {
     "name": "stdout",
     "output_type": "stream",
     "text": [
      "2\n"
     ]
    }
   ],
   "source": [
    "df1 = df[(df['Ratings'] >= 4) & (df['Rating Counts'] >= 4)]\n",
    "\n",
    "print(df[df.Title.str.contains('[Hh]ummus')].Title.count())"
   ]
  },
  {
   "cell_type": "code",
   "execution_count": 84,
   "metadata": {},
   "outputs": [],
   "source": [
    "# STOP_WORDS = ['ground', 'fresh ground', 'powder', 'cream of', 'boneless', 'skinless', 'skinless chicken', 'half'\n",
    "#              'butter or', 'juice', 'fresh lemon', 'rind', 'salt and', 'and pepper', 'boiling water', 'cold water',\n",
    "#              'sauce', 'soy', 'chip', 'soda', 'oil', 'or vegetable', 'oil or', 'vegetable', 'seed',\n",
    "#              'shredded cheddar', 'grated cheddar', 'jack', 'monterey', 'cheese or', \n",
    "#             'half', 'of chicken', 'shredded mozzarella', 'cottage', 'confectioner', 'unsalted butter', 'of chicken',\n",
    "#             'condensed cream', 'package', 'package cream', 'whip', 'stalk celery', 'bay', 'leaf',\n",
    "#             'slice', 'slice white', 'slice bacon', 'slice bread', 'slice white', 'creamy', 'butter or', 'or butter',\n",
    "#             'salt', 'yeast or', 'pepper or', 'white', 'lowfat', 'skim', 'milk or', 'instant', 'whip', 'light', \n",
    "#             'light corn', 'flake', 'worcestershire', 'dijon', 'cream or', 'salt pepper', 'wheat', 'squeezed lemon',\n",
    "#              ]"
   ]
  },
  {
   "cell_type": "code",
   "execution_count": 85,
   "metadata": {},
   "outputs": [],
   "source": [
    "def user_tokenize(ingreds):\n",
    "    ingreds = clean_once(ingreds)\n",
    "    ingreds = text_singularizer(ingreds)\n",
    "    ingreds = generalize_ingredients(ingreds,ingredient_mapping)\n",
    "    ingreds = remove_unwanted_words_and_phrases(ingreds)\n",
    "    nouns = get_nouns(ingreds)\n",
    "    ingredscombined = [ingreds, nouns]\n",
    "    ingredstokenized = mytokenizer(ingredscombined)\n",
    "    return ingredstokenized"
   ]
  },
  {
   "cell_type": "code",
   "execution_count": 86,
   "metadata": {},
   "outputs": [
    {
     "name": "stdout",
     "output_type": "stream",
     "text": [
      "(1097, 249)\n"
     ]
    },
    {
     "name": "stderr",
     "output_type": "stream",
     "text": [
      "c:\\Users\\arsen\\Healthylicious\\.venv\\lib\\site-packages\\sklearn\\feature_extraction\\text.py:523: UserWarning: The parameter 'token_pattern' will not be used since 'tokenizer' is not None'\n",
      "  warnings.warn(\n"
     ]
    }
   ],
   "source": [
    "# Apply user_tokenize function to the Ingredients column\n",
    "#df['TokenizedIngredients'] = df['Ingredients'].apply(lambda x: user_tokenize(x))\n",
    "vectorizer = TfidfVectorizer(tokenizer=commatokenizer, min_df=7, max_df=0.4)\n",
    "docs = df['TokenizedIngredients']\n",
    "doc_word = vectorizer.fit_transform(docs)\n",
    "\n",
    "print(doc_word.shape)"
   ]
  },
  {
   "cell_type": "code",
   "execution_count": 87,
   "metadata": {},
   "outputs": [],
   "source": [
    "nmf_model = NMF(20, random_state=10, max_iter=1000)\n",
    "doc_topic = nmf_model.fit_transform(doc_word)\n",
    "topic_word = nmf_model.components_"
   ]
  },
  {
   "cell_type": "code",
   "execution_count": 88,
   "metadata": {},
   "outputs": [
    {
     "name": "stdout",
     "output_type": "stream",
     "text": [
      "\n",
      "Topic  0\n",
      "brown, brown sugar, sugar, cinnamon, oat, butter, pecan, vanilla\n",
      "\n",
      "Topic  1\n",
      "pepper, black pepper, garlic, butter, cayenne pepper, cayenne, onion, parsley\n",
      "\n",
      "Topic  2\n",
      "stone, stone house, house, house seasoning, parsley, ranch, bread, chili powder\n",
      "\n",
      "Topic  3\n",
      "cheddar, cheddar cheese, cheese, bacon, mayonnaise, ham, green onion, milk\n",
      "\n",
      "Topic  4\n",
      "olive, olive oil, oil, zucchini, pork, shrimp, garlic, pesto\n",
      "\n",
      "Topic  5\n",
      "powder, baking powder, flour, sugar, butter, vanilla, vanilla extract, cinnamon\n",
      "\n",
      "Topic  6\n",
      "vanilla, vanilla extract, milk, sugar, cocoa, butter, espresso, condensed milk\n",
      "\n",
      "Topic  7\n",
      "chicken, stock, chicken stock, broth, soup, thyme, celery, mushroom\n",
      "\n",
      "Topic  8\n",
      "water, yeast, corn, ice, sugar, corn syrup, rice, vegetable\n",
      "\n",
      "Topic  9\n",
      "peanut, peanut butter, butter, oat, chocolate chip, honey, chip, vanilla ice\n",
      "\n",
      "Topic  10\n",
      "self, self rising, rising flour, flour, milk, butter, cornmeal, yeast\n",
      "\n",
      "Topic  11\n",
      "cream, cream cheese, cheese, sour cream, whipping cream, ice cream, ice, vanilla ice\n",
      "\n",
      "Topic  12\n",
      "chocolate, candy, espresso, cookie, cake, chip, cocoa, chocolate chip\n",
      "\n",
      "Topic  13\n",
      "lemon, sugar, mayonnaise, celery, sprig, blueberry, shrimp, parsley\n",
      "\n",
      "Topic  14\n",
      "confectioner sugar, confectioner, sugar, butter, vanilla, vanilla extract, flour, peppermint\n",
      "\n",
      "Topic  15\n",
      "egg, flour, sugar, bacon, vanilla, vanilla extract, butter, maple\n",
      "\n",
      "Topic  16\n",
      "onion, tomato, lime, bean, jalapeno, jalapeno pepper, green onion, pepper\n",
      "\n",
      "Topic  17\n",
      "worcestershire sauce, worcestershire, beef, broth, garlic, beef broth, onion, bread\n",
      "\n",
      "Topic  18\n",
      "jack, jack cheese, monterey jack, monterey, cheese, tortilla, enchilada, enchilada sauce\n",
      "\n",
      "Topic  19\n",
      "red, red pepper, vinegar, honey, soy sauce, soy, balsamic, balsamic vinegar\n",
      "\n",
      "Topic  20\n",
      "apple, cider, apple cider, cider vinegar, cinnamon, mustard, vinegar, dijon\n",
      "\n",
      "Topic  21\n",
      "buttermilk, flour, buttermilk biscuit, butter, sugar, food, vinegar, cornmeal\n",
      "\n",
      "Topic  22\n",
      "cheese, parmesan, parmesan cheese, mozzarella cheese, mozzarella, basil, pizza, spinach\n",
      "\n",
      "Topic  23\n",
      "coconut, coconut oil, pecan, oil, pineapple, honey, oat, banana\n",
      "\n",
      "Topic  24\n",
      "potato, butter, red potato, milk, yukon gold, yukon, gold potato, gold\n",
      "\n",
      "Topic  25\n",
      "sea, sea salt, flour, yeast, butter, nut, chocolate, oat\n",
      "\n",
      "Topic  26\n",
      "orange, juice, cranberry, orange juice, pineapple, zest, jalapeno, jalapeno pepper\n",
      "\n",
      "Topic  27\n",
      "pie, crust, pie crust, corn, corn starch, starch, pumpkin, butter\n",
      "\n",
      "Topic  28\n",
      "cracker, graham, graham cracker, lime, butter, condensed milk, pretzel, pecan\n",
      "\n",
      "Topic  29\n",
      "bbq sauce, bbq, pork, bacon, pickle, grape, dill pickle, dill\n"
     ]
    }
   ],
   "source": [
    "from sklearn.decomposition import NMF\n",
    "\n",
    "# Experiment with different numbers of topics\n",
    "n_topics = [15, 20, 25, 30]\n",
    "best_nmf_model = None\n",
    "best_score = float('inf')\n",
    "\n",
    "for n in n_topics:\n",
    "    nmf_model = NMF(n, random_state=10, max_iter=2000)\n",
    "    doc_topic = nmf_model.fit_transform(doc_word)\n",
    "    topic_word = nmf_model.components_\n",
    "    score = nmf_model.reconstruction_err_\n",
    "    \n",
    "    if score < best_score:\n",
    "        best_score = score\n",
    "        best_nmf_model = nmf_model\n",
    "\n",
    "nmf_model = best_nmf_model\n",
    "doc_topic = nmf_model.fit_transform(doc_word)\n",
    "topic_word = nmf_model.components_\n",
    "\n",
    "def display_topics(model, feature_names, num_top_words, topic_names=None):\n",
    "    for idx, topic in enumerate(model.components_):\n",
    "        if not topic_names or not topic_names[idx]:\n",
    "            print(\"\\nTopic \", idx)\n",
    "        else:\n",
    "            print(\"\\nTopic: '\", topic_names[idx], \"'\")\n",
    "        print(\", \".join([feature_names[i] for i in topic.argsort()[:-num_top_words - 1:-1]]))\n",
    "\n",
    "display_topics(nmf_model, vectorizer.get_feature_names_out(), 8)\n"
   ]
  },
  {
   "cell_type": "code",
   "execution_count": 89,
   "metadata": {},
   "outputs": [],
   "source": [
    "\n",
    "key_ingredients_weights = {\n",
    "    'beef': 10,\n",
    "    'chicken': 10,\n",
    "    'shrimp': 10,\n",
    "    'crab': 10,\n",
    "    'venison': 10,\n",
    "    # Add more key ingredients and their specific weights\n",
    "}\n"
   ]
  },
  {
   "cell_type": "code",
   "execution_count": 90,
   "metadata": {},
   "outputs": [
    {
     "name": "stdout",
     "output_type": "stream",
     "text": [
      "User Input:  egg\n",
      "Tokens Generated:  egg \n",
      "\n",
      "OVEN AND AIR FRYER HARD COOKED EGGS\n",
      "1 egg \n",
      "\n",
      "MERINGUE RECIPE\n",
      "4 large egg whites, 1/4 teaspoon cream of tartar, 1/4 cup sugar \n",
      "\n",
      "ULTIMATE KALE SALAD RECIPE\n",
      "4 cups kale greens (trimmed, chopped and massaged), 2 cups spring lettuce mix, 8 roasted radishes, 2 cucumber (peeled and chopped), 8 okra pods (halved lengthwise), 4 boiled eggs (halved), 2 avocado (halved), salt and pepper (to taste), dressing of choice \n",
      "\n",
      "SALMON EGGS BENEDICT\n",
      "8 - 9 ounces spinach (steamed), salmon steaks (broiled), 4 eggs (poached), hollandaise sauce, salt and pepper \n",
      "\n",
      "CLASSIC EGG SALAD RECIPE\n",
      "6 large hard cooked eggs, ¼ cup mayonnaise, salt and pepper (to taste) \n",
      "\n"
     ]
    }
   ],
   "source": [
    "useringreds = \"egg\"\n",
    "usertokens = user_tokenize(useringreds)\n",
    "print('User Input: ', useringreds)\n",
    "print('Tokens Generated: ', usertokens, '\\n')\n",
    "\n",
    "# Vectorize user input\n",
    "user_vec = vectorizer.transform([usertokens])\n",
    "\n",
    "# Adjust weights for key ingredients\n",
    "feature_names = vectorizer.get_feature_names_out()\n",
    "for ingredient, weight in key_ingredients_weights.items():\n",
    "    if ingredient in usertokens:\n",
    "        index = feature_names.tolist().index(ingredient)\n",
    "        user_vec[0, index] *= weight\n",
    "\n",
    "# Transform user vector into topic space\n",
    "topic_vec = nmf_model.transform(user_vec)\n",
    "\n",
    "# Compute similarity and get recommendations\n",
    "indices = pairwise_distances(topic_vec, doc_topic, metric='cosine').argsort().ravel()\n",
    "\n",
    "for index in indices[0:5]:\n",
    "    print(df.iloc[index].Title.upper())\n",
    "    print(df.iloc[index][\"All Ingredients\"], '\\n')"
   ]
  },
  {
   "cell_type": "code",
   "execution_count": 91,
   "metadata": {},
   "outputs": [
    {
     "name": "stdout",
     "output_type": "stream",
     "text": [
      "Ingredients column has been saved to just_ingredients.csv\n"
     ]
    }
   ],
   "source": [
    "import pandas as pd\n",
    "\n",
    "# Assume df is your existing DataFrame\n",
    "# Extract the 'Ingredients' column\n",
    "just_ingredients = df[['IngredientsRemovedAdj']]\n",
    "\n",
    "# Save to a new CSV file\n",
    "just_ingredients.to_csv('just_ingredients.csv', index=False)\n",
    "\n",
    "print(\"Ingredients column has been saved to just_ingredients.csv\")\n"
   ]
  },
  {
   "cell_type": "code",
   "execution_count": 92,
   "metadata": {},
   "outputs": [
    {
     "name": "stdout",
     "output_type": "stream",
     "text": [
      "Unique ingredients have been saved to UniqueIngredients.csv\n"
     ]
    }
   ],
   "source": [
    "import pandas as pd\n",
    "\n",
    "# Load the dataset\n",
    "df = pd.read_csv('just_ingredients.csv')\n",
    "\n",
    "# Extract all ingredients from all rows into a single list\n",
    "all_ingredients = []\n",
    "for ingredients in df['IngredientsRemovedAdj']:\n",
    "    all_ingredients.extend(ingredients.split(', '))\n",
    "\n",
    "# Remove duplicates and sort the list\n",
    "unique_ingredients = sorted(set(all_ingredients))\n",
    "\n",
    "# Create a new DataFrame from the unique ingredients\n",
    "df_unique_ingredients = pd.DataFrame(unique_ingredients, columns=['Ingredient'])\n",
    "\n",
    "# Save the new DataFrame to a CSV file\n",
    "df_unique_ingredients.to_csv('UniqueIngredients.csv', index=False)\n",
    "\n",
    "print(\"Unique ingredients have been saved to UniqueIngredients.csv\")\n"
   ]
  }
 ],
 "metadata": {
  "kernelspec": {
   "display_name": ".venv",
   "language": "python",
   "name": "python3"
  },
  "language_info": {
   "codemirror_mode": {
    "name": "ipython",
    "version": 3
   },
   "file_extension": ".py",
   "mimetype": "text/x-python",
   "name": "python",
   "nbconvert_exporter": "python",
   "pygments_lexer": "ipython3",
   "version": "3.9.13"
  }
 },
 "nbformat": 4,
 "nbformat_minor": 2
}
