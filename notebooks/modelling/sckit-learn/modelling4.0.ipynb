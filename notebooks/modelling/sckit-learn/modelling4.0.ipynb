{
 "cells": [
  {
   "cell_type": "code",
   "execution_count": 15,
   "metadata": {},
   "outputs": [],
   "source": [
    "import pandas as pd\n",
    "from sklearn.feature_extraction.text import TfidfVectorizer\n",
    "from sklearn.metrics.pairwise import cosine_similarity\n",
    "\n",
    "# Load datasets\n",
    "recipes_df = pd.read_csv('C:/Users/arsen/Healthylicious/data/cleaned/csv/recipes_dataset.csv')\n"
   ]
  },
  {
   "cell_type": "code",
   "execution_count": 17,
   "metadata": {},
   "outputs": [
    {
     "name": "stdout",
     "output_type": "stream",
     "text": [
      "      recipeId                     Category  \\\n",
      "79          80                    Appetizer   \n",
      "246        247                    Breakfast   \n",
      "936        937                  Main Course   \n",
      "1016      1017              Sauce,Side Dish   \n",
      "49          50                      Dessert   \n",
      "61          62  Appetizer,Breakfast,Dessert   \n",
      "9           10                    Appetizer   \n",
      "71          72                    Appetizer   \n",
      "490        491                      Dessert   \n",
      "653        654                      Dessert   \n",
      "\n",
      "                                                  Title  Total Time  \\\n",
      "79    Warm Brie with Honeyed Cranberry Walnut Fruit ...          15   \n",
      "246                     Cranberry Orange Muffins Recipe          30   \n",
      "936                  Cranberry Orange Glazed Ham Recipe          95   \n",
      "1016                             Cranberry Sauce Recipe          15   \n",
      "49                           Sugared Cranberries Recipe          63   \n",
      "61                        Cranberry Orange Rolls Recipe         105   \n",
      "9              Cranberry Salsa over Cream Cheese Recipe           5   \n",
      "71                        Orange Cranberry Salsa Recipe          10   \n",
      "490                            Heritage Frosting Recipe          15   \n",
      "653                     Citrus Sorbet with Meyer Lemons          30   \n",
      "\n",
      "                                           Instructions  \\\n",
      "79    Preheat the oven to 400°F.\\r\\nSimmer the orang...   \n",
      "246   Preheat oven to 375º F. Spray muffin tins with...   \n",
      "936   Preheat oven to 325º F.\\r\\nPlace ham into roas...   \n",
      "1016  Bring orange juice, sugar and water to a boil ...   \n",
      "49    Combine 1/2 cup sugar and 1/2 cup water in a m...   \n",
      "61    Cranberry Orange Roll Dough:\\r\\nAdd yeast and ...   \n",
      "9     Add cranberries and sugar to a food processor ...   \n",
      "71    Pulse cranberries and sugar together in a food...   \n",
      "490   Cook flour and milk on low heat until very, ve...   \n",
      "653   Make a simple syrup by heating sugar and water...   \n",
      "\n",
      "                                              Nutrition   Cuisine  \\\n",
      "79    {'calories': '112 kcal', 'carbohydrateContent'...  American   \n",
      "246   {'calories': '278 kcal', 'carbohydrateContent'...  American   \n",
      "936   {'calories': '299 kcal', 'carbohydrateContent'...  American   \n",
      "1016  {'servingSize': '0.25 cup', 'calories': '55 kc...  American   \n",
      "49    {'calories': '164 kcal', 'carbohydrateContent'...  American   \n",
      "61    {'servingSize': '1 g', 'calories': '511 kcal',...  American   \n",
      "9     {'calories': '53 kcal', 'carbohydrateContent':...  American   \n",
      "71    {'calories': '96 kcal', 'carbohydrateContent':...  American   \n",
      "490   {'servingSize': '2 tablespoons', 'calories': '...  American   \n",
      "653   {'servingSize': '0.5 cup', 'carbohydrateConten...  American   \n",
      "\n",
      "           Yields                                        Ingredients  \n",
      "79    12 servings  orange juice, cranberry, orange zest, wheel br...  \n",
      "246   12 servings  , coating cranberry, baking powder, kosher sal...  \n",
      "936   16 servings  ham, cranberry sauce, orange juice, brown suga...  \n",
      "1016   8 servings  cranberry, water, orange juice, sugar, orange ...  \n",
      "49     8 servings                                   sugar, cranberry  \n",
      "61    12 servings  milk, yeast, sugar, butter, kosher salt, egg, ...  \n",
      "9     12 servings  cranberry, sugar, jalapeno pepper, green onion...  \n",
      "71     6 servings  cranberry, sugar, jalapeno pepper, green onion...  \n",
      "490   20 servings        flour, milk, butter, sugar, vanilla extract  \n",
      "653    8 servings  lemon, orange juice, lemon, orange zest, simpl...  \n"
     ]
    }
   ],
   "source": [
    "# TF-IDF Vectorizer\n",
    "tfidf_vectorizer = TfidfVectorizer(stop_words='english', ngram_range=(1, 2))\n",
    "tfidf_matrix = tfidf_vectorizer.fit_transform(recipes_df['Ingredients'])\n",
    "\n",
    "def get_content_based_recommendations(user_ingredients, top_n=10):\n",
    "    user_tfidf = tfidf_vectorizer.transform([user_ingredients])\n",
    "    cosine_sim = cosine_similarity(user_tfidf, tfidf_matrix)\n",
    "    similar_indices = cosine_sim.argsort().flatten()[::-1][:top_n]\n",
    "    return recipes_df.iloc[similar_indices]\n",
    "\n",
    "# Example usage\n",
    "user_ingredients_str = \"cranberry, orange, butter, sugar\"\n",
    "content_based_recommendations = get_content_based_recommendations(user_ingredients_str)\n",
    "print(content_based_recommendations)"
   ]
  }
 ],
 "metadata": {
  "kernelspec": {
   "display_name": ".venv",
   "language": "python",
   "name": "python3"
  },
  "language_info": {
   "codemirror_mode": {
    "name": "ipython",
    "version": 3
   },
   "file_extension": ".py",
   "mimetype": "text/x-python",
   "name": "python",
   "nbconvert_exporter": "python",
   "pygments_lexer": "ipython3",
   "version": "3.9.13"
  }
 },
 "nbformat": 4,
 "nbformat_minor": 2
}
