{
 "cells": [
  {
   "cell_type": "code",
   "execution_count": 1,
   "metadata": {},
   "outputs": [
    {
     "name": "stderr",
     "output_type": "stream",
     "text": [
      "c:\\Users\\arsen\\Healthylicious\\.venv\\lib\\site-packages\\tqdm\\auto.py:21: TqdmWarning: IProgress not found. Please update jupyter and ipywidgets. See https://ipywidgets.readthedocs.io/en/stable/user_install.html\n",
      "  from .autonotebook import tqdm as notebook_tqdm\n"
     ]
    }
   ],
   "source": [
    "import pandas as pd\n",
    "import numpy as np\n",
    "import string, re\n",
    "import swifter\n",
    "import pickle \n",
    "\n",
    "from sklearn.feature_extraction.text import CountVectorizer, TfidfVectorizer\n",
    "from nltk import bigrams \n",
    "from nltk.stem import SnowballStemmer\n",
    "from nltk.tokenize import word_tokenize, sent_tokenize, RegexpTokenizer\n",
    "\n",
    "from nltk.corpus import stopwords\n",
    "# import nltk\n",
    "# nltk.download('stopwords')\n",
    "\n",
    "import spacy\n",
    "nlp = spacy.load(\"en_core_web_sm\")\n",
    "from sklearn.decomposition import NMF, TruncatedSVD\n",
    "from sklearn.metrics import pairwise_distances\n",
    "from sklearn.metrics.pairwise import cosine_similarity"
   ]
  },
  {
   "cell_type": "code",
   "execution_count": 3,
   "metadata": {},
   "outputs": [],
   "source": [
    "df = pd.read_csv(\"C:/Users/arsen/Healthylicious/data/cleaned/csv/combined_dataset_cleaned.csv\")"
   ]
  },
  {
   "cell_type": "code",
   "execution_count": 4,
   "metadata": {},
   "outputs": [],
   "source": [
    "df['ID'] = range(1, len(df) + 1)"
   ]
  },
  {
   "cell_type": "code",
   "execution_count": 5,
   "metadata": {},
   "outputs": [
    {
     "name": "stdout",
     "output_type": "stream",
     "text": [
      "   ID               Category                                      Title  \\\n",
      "0   1            Main Course                   Swedish Meatballs Recipe   \n",
      "1   2  Appetizer,Main Course  Baked Crispy Buffalo Chicken Wings Recipe   \n",
      "2   3              Appetizer                           Guacamole Recipe   \n",
      "3   4              Appetizer                       Perfect Queso Recipe   \n",
      "4   5              Appetizer                 Buffalo Chicken Dip Recipe   \n",
      "\n",
      "   Total Time                                    All Ingredients  \\\n",
      "0          30  1 pound ground beef, 2 tablespoons diced onion...   \n",
      "1          60  6 pounds chicken wings (trimmed), 3 tablespoon...   \n",
      "2           5  2 avocados (halved, seeded, and peeled), 1 tab...   \n",
      "3           5  1/2 cup pepper jack cheese, 1 cup grated white...   \n",
      "4          25  2 cups chicken breasts (cooked and shredded), ...   \n",
      "\n",
      "                                   Ingredient Groups  \\\n",
      "0  IngredientGroup(ingredients=['1 pound ground b...   \n",
      "1  IngredientGroup(ingredients=['6 pounds chicken...   \n",
      "2  IngredientGroup(ingredients=['2 avocados (halv...   \n",
      "3  IngredientGroup(ingredients=['1/2 cup pepper j...   \n",
      "4  IngredientGroup(ingredients=['2 cups chicken b...   \n",
      "\n",
      "                                        Instructions  \\\n",
      "0  For the meatballs:\\r\\nMix together all ingredi...   \n",
      "1  Preheat the oven to 425º F. Line a baking shee...   \n",
      "2  Mash avocado with a fork or potato masher in a...   \n",
      "3  Stovetop Queso:\\r\\nAdd cheeses and half of the...   \n",
      "4  Preheat oven to 350º F.\\r\\nMix together all in...   \n",
      "\n",
      "                                           Nutrition   Cuisine       Yields  \\\n",
      "0  {'calories': '220 kcal', 'carbohydrateContent'...  American   6 servings   \n",
      "1  {'servingSize': '0.25 pound', 'calories': '419...  American   8 servings   \n",
      "2  {'carbohydrateContent': '7 g', 'proteinContent...   Mexican   6 servings   \n",
      "3  {'calories': '534 kcal', 'carbohydrateContent'...  American   2 servings   \n",
      "4  {'calories': '106 kcal', 'proteinContent': '4 ...  American  12 servings   \n",
      "\n",
      "                                               Image  Ratings  \\\n",
      "0  https://addapinch.com/wp-content/uploads/2022/...     4.95   \n",
      "1  https://addapinch.com/wp-content/uploads/2018/...     5.00   \n",
      "2  https://addapinch.com/wp-content/uploads/2013/...     4.50   \n",
      "3  https://addapinch.com/wp-content/uploads/2015/...     5.00   \n",
      "4  https://addapinch.com/wp-content/uploads/2024/...     5.00   \n",
      "\n",
      "                                         Description    Status  \n",
      "0  The Best Swedish Meatballs feature tender meat...  Complete  \n",
      "1  Crispy Baked Buffalo Chicken Wings that are so...  Complete  \n",
      "2  This easy Guacamole recipe, made with fresh in...  Complete  \n",
      "3  This easy and delicious Queso recipe is made w...  Complete  \n",
      "4  Buffalo Chicken Dip Recipe is the best easy ap...  Complete  \n"
     ]
    }
   ],
   "source": [
    "cols = ['ID'] + [col for col in df.columns if col != 'ID']\n",
    "df = df[cols]\n",
    "\n",
    "print(df.head())"
   ]
  },
  {
   "cell_type": "code",
   "execution_count": 6,
   "metadata": {},
   "outputs": [],
   "source": [
    "df['Rating Counts'] = np.random.randint(1, 1001, size=len(df))"
   ]
  },
  {
   "cell_type": "code",
   "execution_count": 8,
   "metadata": {},
   "outputs": [
    {
     "name": "stdout",
     "output_type": "stream",
     "text": [
      "['ID', 'Category', 'Title', 'Total Time', 'All Ingredients', 'Ingredient Groups', 'Instructions', 'Nutrition', 'Cuisine', 'Yields', 'Image', 'Ratings', 'Description', 'Status', 'Rating Counts']\n"
     ]
    }
   ],
   "source": [
    "print(df.columns.tolist())"
   ]
  },
  {
   "cell_type": "code",
   "execution_count": 9,
   "metadata": {},
   "outputs": [
    {
     "name": "stdout",
     "output_type": "stream",
     "text": [
      "['ID', 'Category', 'Title', 'Total Time', 'All Ingredients', 'Ingredient Groups', 'Instructions', 'Nutrition', 'Cuisine', 'Yields', 'Image', 'Ratings', 'Rating Counts', 'Description', 'Status']\n"
     ]
    }
   ],
   "source": [
    "cols = df.columns.tolist()  # Dapatkan daftar kolom\n",
    "cols.insert(12, cols.pop(cols.index('Rating Counts')))  # Pindahkan 'Rating Counts' ke posisi ke-13\n",
    "df = df[cols] \n",
    "print(df.columns.tolist())"
   ]
  },
  {
   "cell_type": "code",
   "execution_count": 10,
   "metadata": {},
   "outputs": [],
   "source": [
    "df = df.set_index('ID')\n",
    "df = df.dropna(subset=['Title','Rating Counts'])   "
   ]
  },
  {
   "cell_type": "code",
   "execution_count": 27,
   "metadata": {},
   "outputs": [],
   "source": [
    "measure_words = ['bottle', 'bottles', 'box', 'boxes', 'bunch','bunches', 'bushel','bushels', \n",
    "                 'can', 'cans', 'container', 'c', 'cup', 'cups', 'carton', 'cartons', 'chopped',\n",
    "                 'dash','dashes', 'drop','drops','fl', 'fl.', 'fluid','jar', 'jars','ounce','ounces','oz',\n",
    "                 'g', 'gallon','gallons', 'glass','glasses', 'gram','grams','kg','kgs', 'lb','lbs',\n",
    "                 'liter','liters', 'l', 'large', 'medium', 'ml','mls', 'package','pkg','small', 'to taste',\n",
    "                 'pinch','pinches', 'pint','pints', 'pound','pounds', 'qt', 'qts', 'quart','quarts',\n",
    "                 'scoop','scoops', 'sliced','slivered','stick','sticks', 'tablespoon','tablespoons',\n",
    "                 'tbs','tbsp','tbsps', 'teaspoon','teaspoons','tsp','tsps','whole']"
   ]
  },
  {
   "cell_type": "code",
   "execution_count": 82,
   "metadata": {},
   "outputs": [],
   "source": [
    "def clean_once(text):\n",
    "    ingredlist = []\n",
    "    for ingred in text.split(\", \"):\n",
    "        ingred = re.sub(r'\\([^)]*\\)', '', ingred)  # Remove anything inside parentheses\n",
    "        ingred = re.sub(r'\\d', '', ingred)         # Remove digits\n",
    "        ingred = re.sub(r'\\s+', ' ', ingred)       # Remove extra whitespace\n",
    "        ingred = ingred.replace('/', ' ')          # Remove slashes\n",
    "        ingred = ' ' + ingred + ' '                # Padding in case measure_word is first or last\n",
    "        for measure_word in measure_words:         # Remove measure words\n",
    "            ingred = ingred.replace(' ' + measure_word + ' ', ' ')\n",
    "        ingred = ingred.strip().lower()            # Strip leading/trailing whitespace and convert to lowercase\n",
    "        ingredlist.append(ingred)\n",
    "    return ', '.join(ingredlist)"
   ]
  },
  {
   "cell_type": "code",
   "execution_count": 29,
   "metadata": {},
   "outputs": [],
   "source": [
    "df['Ingredients'] = df['All Ingredients'].apply(clean_once)"
   ]
  },
  {
   "cell_type": "code",
   "execution_count": 30,
   "metadata": {},
   "outputs": [
    {
     "data": {
      "text/plain": [
       "['ground beef',\n",
       " 'diced onion',\n",
       " 'egg',\n",
       " 'stone house seasoning',\n",
       " 'ground allspice',\n",
       " 'ground nutmeg',\n",
       " 'bread or cracker crumbs',\n",
       " 'fresh parsley',\n",
       " 'olive oil',\n",
       " 'butter',\n",
       " 'all-purpose flour',\n",
       " 'beef stock or broth',\n",
       " 'milk or heavy cream',\n",
       " 'stone house seasoning',\n",
       " 'worcestershire sauce',\n",
       " 'fresh parsley']"
      ]
     },
     "execution_count": 30,
     "metadata": {},
     "output_type": "execute_result"
    }
   ],
   "source": [
    "df['Ingredients'][1]"
   ]
  },
  {
   "cell_type": "code",
   "execution_count": 46,
   "metadata": {},
   "outputs": [],
   "source": [
    "def preprocessor(text):\n",
    "    ingredlist = []\n",
    "    for ingred in text.split(', '):\n",
    "        ingred = re.sub('\\w*\\d\\w*', ' ', ingred)  # Remove any words containing digits \n",
    "        ingred = ingred.replace('\"', '').replace(\"'\", '').replace('& ', '').replace('-', '')   \n",
    "        ingred = re.sub('[%s]' % re.escape(string.punctuation), ' ', ingred)  # Remove punctuation\n",
    "        ingred = ingred.lower().strip()        \n",
    "        ingredlist.append(ingred)        \n",
    "    return ', '.join(ingredlist)\n",
    "\n",
    "def word_singularizer(word):\n",
    "    nlp_word = nlp(word)[0]\n",
    "    lemma = nlp_word.text\n",
    "    if nlp_word.tag_ in {\"NNS\", \"NNPS\"}:\n",
    "        lemma = nlp_word.lemma_\n",
    "    return lemma\n",
    "\n",
    "def text_singularizer(text):\n",
    "    ingredlist = []\n",
    "    for ingred in text.split(', '):\n",
    "        new_list = []\n",
    "        for word in ingred.split():\n",
    "            new_list.append(word_singularizer(word))\n",
    "        ingred = ' '.join(new_list)\n",
    "        ingredlist.append(ingred)        \n",
    "    return ', '.join(ingredlist)\n",
    "\n",
    "def get_nouns(text):\n",
    "    tokens = RegexpTokenizer(r'\\w+').tokenize(text)\n",
    "    nounlist = [word_singularizer(word) for word in tokens if is_noun(word)]\n",
    "    return ', '.join(nounlist) \n",
    "\n",
    "def is_noun(word):\n",
    "    nouns = {'NN','NNS', 'NNP', 'NNPS','NOUN', 'PROPN', 'NE', 'NNE', 'NR'}\n",
    "    pos = nlp(word)[0].tag_ \n",
    "    if pos in nouns:\n",
    "        return True\n",
    "    return False"
   ]
  },
  {
   "cell_type": "code",
   "execution_count": 47,
   "metadata": {},
   "outputs": [],
   "source": [
    "df['Ingredients'] = df['Ingredients'].fillna('')"
   ]
  },
  {
   "cell_type": "code",
   "execution_count": 48,
   "metadata": {},
   "outputs": [
    {
     "data": {
      "text/plain": [
       "'ground beef, diced onion, egg, stone house seasoning, ground allspice, ground nutmeg, bread or cracker crumbs, fresh parsley, olive oil, butter, all-purpose flour, beef stock or broth, milk or heavy cream, stone house seasoning, worcestershire sauce, fresh parsley'"
      ]
     },
     "execution_count": 48,
     "metadata": {},
     "output_type": "execute_result"
    }
   ],
   "source": [
    "teststr = df.iloc[0]['Ingredients']\n",
    "teststr = ', '.join(teststr)\n",
    "teststr"
   ]
  },
  {
   "cell_type": "code",
   "execution_count": 49,
   "metadata": {},
   "outputs": [
    {
     "name": "stdout",
     "output_type": "stream",
     "text": [
      "Original Ingredients:\n",
      " ground beef, diced onion, egg, stone house seasoning, ground allspice, ground nutmeg, bread or cracker crumbs, fresh parsley, olive oil, butter, all-purpose flour, beef stock or broth, milk or heavy cream, stone house seasoning, worcestershire sauce, fresh parsley \n",
      "\n"
     ]
    }
   ],
   "source": [
    "print(\"Original Ingredients:\\n\", teststr, '\\n')"
   ]
  },
  {
   "cell_type": "code",
   "execution_count": 50,
   "metadata": {},
   "outputs": [
    {
     "name": "stdout",
     "output_type": "stream",
     "text": [
      "Nouns:\n",
      " ground, beef, onion, egg, stone, house, ground, allspice, ground, nutmeg, bread, cracker, crumb, parsley, olive, oil, butter, purpose, flour, beef, stock, broth, milk, cream, stone, house, worcestershire, parsley \n",
      "\n",
      "Preprocessed:\n",
      " ground beef, diced onion, egg, stone house seasoning, ground allspice, ground nutmeg, bread or cracker crumbs, fresh parsley, olive oil, butter, allpurpose flour, beef stock or broth, milk or heavy cream, stone house seasoning, worcestershire sauce, fresh parsley \n",
      "\n",
      "Singularized:\n",
      " ground beef, diced onion, egg, stone house seasoning, ground allspice, ground nutmeg, bread or cracker crumb, fresh parsley, olive oil, butter, allpurpose flour, beef stock or broth, milk or heavy cream, stone house seasoning, worcestershire sauce, fresh parsley \n",
      "\n",
      "Nouns after Singularizing:\n",
      " ground, beef, onion, egg, stone, house, ground, allspice, ground, nutmeg, bread, cracker, parsley, olive, oil, butter, flour, beef, stock, broth, milk, cream, stone, house, worcestershire, parsley \n",
      "\n"
     ]
    }
   ],
   "source": [
    "print(\"Nouns:\\n\", get_nouns(teststr), '\\n')\n",
    "print(\"Preprocessed:\\n\", preprocessor(teststr), '\\n')\n",
    "print(\"Singularized:\\n\", text_singularizer(preprocessor(teststr)), '\\n')\n",
    "print(\"Nouns after Singularizing:\\n\", get_nouns(text_singularizer(preprocessor(teststr))), '\\n')"
   ]
  },
  {
   "cell_type": "code",
   "execution_count": 52,
   "metadata": {},
   "outputs": [],
   "source": [
    "df['Ingredients'] = df['Ingredients'].apply(lambda x: ', '.join(x) if isinstance(x, list) else x)"
   ]
  },
  {
   "cell_type": "code",
   "execution_count": 53,
   "metadata": {},
   "outputs": [
    {
     "data": {
      "text/html": [
       "<div>\n",
       "<style scoped>\n",
       "    .dataframe tbody tr th:only-of-type {\n",
       "        vertical-align: middle;\n",
       "    }\n",
       "\n",
       "    .dataframe tbody tr th {\n",
       "        vertical-align: top;\n",
       "    }\n",
       "\n",
       "    .dataframe thead th {\n",
       "        text-align: right;\n",
       "    }\n",
       "</style>\n",
       "<table border=\"1\" class=\"dataframe\">\n",
       "  <thead>\n",
       "    <tr style=\"text-align: right;\">\n",
       "      <th></th>\n",
       "      <th>Category</th>\n",
       "      <th>Title</th>\n",
       "      <th>Total Time</th>\n",
       "      <th>All Ingredients</th>\n",
       "      <th>Ingredient Groups</th>\n",
       "      <th>Instructions</th>\n",
       "      <th>Nutrition</th>\n",
       "      <th>Cuisine</th>\n",
       "      <th>Yields</th>\n",
       "      <th>Image</th>\n",
       "      <th>Ratings</th>\n",
       "      <th>Rating Counts</th>\n",
       "      <th>Description</th>\n",
       "      <th>Status</th>\n",
       "      <th>Ingredients</th>\n",
       "      <th>IngredientsProcessed</th>\n",
       "      <th>IngredientsProcNouns</th>\n",
       "    </tr>\n",
       "    <tr>\n",
       "      <th>ID</th>\n",
       "      <th></th>\n",
       "      <th></th>\n",
       "      <th></th>\n",
       "      <th></th>\n",
       "      <th></th>\n",
       "      <th></th>\n",
       "      <th></th>\n",
       "      <th></th>\n",
       "      <th></th>\n",
       "      <th></th>\n",
       "      <th></th>\n",
       "      <th></th>\n",
       "      <th></th>\n",
       "      <th></th>\n",
       "      <th></th>\n",
       "      <th></th>\n",
       "      <th></th>\n",
       "    </tr>\n",
       "  </thead>\n",
       "  <tbody>\n",
       "    <tr>\n",
       "      <th>1</th>\n",
       "      <td>Main Course</td>\n",
       "      <td>Swedish Meatballs Recipe</td>\n",
       "      <td>30</td>\n",
       "      <td>1 pound ground beef, 2 tablespoons diced onion...</td>\n",
       "      <td>IngredientGroup(ingredients=['1 pound ground b...</td>\n",
       "      <td>For the meatballs:\\r\\nMix together all ingredi...</td>\n",
       "      <td>{'calories': '220 kcal', 'carbohydrateContent'...</td>\n",
       "      <td>American</td>\n",
       "      <td>6 servings</td>\n",
       "      <td>https://addapinch.com/wp-content/uploads/2022/...</td>\n",
       "      <td>4.95</td>\n",
       "      <td>879</td>\n",
       "      <td>The Best Swedish Meatballs feature tender meat...</td>\n",
       "      <td>Complete</td>\n",
       "      <td>ground beef, diced onion, egg, stone house sea...</td>\n",
       "      <td>ground beef, diced onion, egg, stone house sea...</td>\n",
       "      <td>ground, beef, onion, egg, stone, house, ground...</td>\n",
       "    </tr>\n",
       "    <tr>\n",
       "      <th>2</th>\n",
       "      <td>Appetizer,Main Course</td>\n",
       "      <td>Baked Crispy Buffalo Chicken Wings Recipe</td>\n",
       "      <td>60</td>\n",
       "      <td>6 pounds chicken wings (trimmed), 3 tablespoon...</td>\n",
       "      <td>IngredientGroup(ingredients=['6 pounds chicken...</td>\n",
       "      <td>Preheat the oven to 425º F. Line a baking shee...</td>\n",
       "      <td>{'servingSize': '0.25 pound', 'calories': '419...</td>\n",
       "      <td>American</td>\n",
       "      <td>8 servings</td>\n",
       "      <td>https://addapinch.com/wp-content/uploads/2018/...</td>\n",
       "      <td>5.00</td>\n",
       "      <td>665</td>\n",
       "      <td>Crispy Baked Buffalo Chicken Wings that are so...</td>\n",
       "      <td>Complete</td>\n",
       "      <td>chicken wings, cornstarch, stone house seasoni...</td>\n",
       "      <td>chicken wing, cornstarch, stone house seasonin...</td>\n",
       "      <td>chicken, wing, cornstarch, stone, house, recip...</td>\n",
       "    </tr>\n",
       "    <tr>\n",
       "      <th>3</th>\n",
       "      <td>Appetizer</td>\n",
       "      <td>Guacamole Recipe</td>\n",
       "      <td>5</td>\n",
       "      <td>2 avocados (halved, seeded, and peeled), 1 tab...</td>\n",
       "      <td>IngredientGroup(ingredients=['2 avocados (halv...</td>\n",
       "      <td>Mash avocado with a fork or potato masher in a...</td>\n",
       "      <td>{'carbohydrateContent': '7 g', 'proteinContent...</td>\n",
       "      <td>Mexican</td>\n",
       "      <td>6 servings</td>\n",
       "      <td>https://addapinch.com/wp-content/uploads/2013/...</td>\n",
       "      <td>4.50</td>\n",
       "      <td>607</td>\n",
       "      <td>This easy Guacamole recipe, made with fresh in...</td>\n",
       "      <td>Complete</td>\n",
       "      <td>avocados (halved, seeded, and peeled), lime ju...</td>\n",
       "      <td>avocados halved, seeded, and peeled, lime juic...</td>\n",
       "      <td>lime, juice, sea, salt, garlic, onion, ground,...</td>\n",
       "    </tr>\n",
       "    <tr>\n",
       "      <th>4</th>\n",
       "      <td>Appetizer</td>\n",
       "      <td>Perfect Queso Recipe</td>\n",
       "      <td>5</td>\n",
       "      <td>1/2 cup pepper jack cheese, 1 cup grated white...</td>\n",
       "      <td>IngredientGroup(ingredients=['1/2 cup pepper j...</td>\n",
       "      <td>Stovetop Queso:\\r\\nAdd cheeses and half of the...</td>\n",
       "      <td>{'calories': '534 kcal', 'carbohydrateContent'...</td>\n",
       "      <td>American</td>\n",
       "      <td>2 servings</td>\n",
       "      <td>https://addapinch.com/wp-content/uploads/2015/...</td>\n",
       "      <td>5.00</td>\n",
       "      <td>284</td>\n",
       "      <td>This easy and delicious Queso recipe is made w...</td>\n",
       "      <td>Complete</td>\n",
       "      <td>pepper jack cheese, grated white american chee...</td>\n",
       "      <td>pepper jack cheese, grated white american chee...</td>\n",
       "      <td>pepper, jack, cheese, white, american, cheese,...</td>\n",
       "    </tr>\n",
       "    <tr>\n",
       "      <th>5</th>\n",
       "      <td>Appetizer</td>\n",
       "      <td>Buffalo Chicken Dip Recipe</td>\n",
       "      <td>25</td>\n",
       "      <td>2 cups chicken breasts (cooked and shredded), ...</td>\n",
       "      <td>IngredientGroup(ingredients=['2 cups chicken b...</td>\n",
       "      <td>Preheat oven to 350º F.\\r\\nMix together all in...</td>\n",
       "      <td>{'calories': '106 kcal', 'proteinContent': '4 ...</td>\n",
       "      <td>American</td>\n",
       "      <td>12 servings</td>\n",
       "      <td>https://addapinch.com/wp-content/uploads/2024/...</td>\n",
       "      <td>5.00</td>\n",
       "      <td>117</td>\n",
       "      <td>Buffalo Chicken Dip Recipe is the best easy ap...</td>\n",
       "      <td>Complete</td>\n",
       "      <td>chicken breasts, cream cheese, ranch dressing ...</td>\n",
       "      <td>chicken breast, cream cheese, ranch dressing o...</td>\n",
       "      <td>chicken, breast, cream, cheese, ranch, cheese,...</td>\n",
       "    </tr>\n",
       "  </tbody>\n",
       "</table>\n",
       "</div>"
      ],
      "text/plain": [
       "                 Category                                      Title  \\\n",
       "ID                                                                     \n",
       "1             Main Course                   Swedish Meatballs Recipe   \n",
       "2   Appetizer,Main Course  Baked Crispy Buffalo Chicken Wings Recipe   \n",
       "3               Appetizer                           Guacamole Recipe   \n",
       "4               Appetizer                       Perfect Queso Recipe   \n",
       "5               Appetizer                 Buffalo Chicken Dip Recipe   \n",
       "\n",
       "    Total Time                                    All Ingredients  \\\n",
       "ID                                                                  \n",
       "1           30  1 pound ground beef, 2 tablespoons diced onion...   \n",
       "2           60  6 pounds chicken wings (trimmed), 3 tablespoon...   \n",
       "3            5  2 avocados (halved, seeded, and peeled), 1 tab...   \n",
       "4            5  1/2 cup pepper jack cheese, 1 cup grated white...   \n",
       "5           25  2 cups chicken breasts (cooked and shredded), ...   \n",
       "\n",
       "                                    Ingredient Groups  \\\n",
       "ID                                                      \n",
       "1   IngredientGroup(ingredients=['1 pound ground b...   \n",
       "2   IngredientGroup(ingredients=['6 pounds chicken...   \n",
       "3   IngredientGroup(ingredients=['2 avocados (halv...   \n",
       "4   IngredientGroup(ingredients=['1/2 cup pepper j...   \n",
       "5   IngredientGroup(ingredients=['2 cups chicken b...   \n",
       "\n",
       "                                         Instructions  \\\n",
       "ID                                                      \n",
       "1   For the meatballs:\\r\\nMix together all ingredi...   \n",
       "2   Preheat the oven to 425º F. Line a baking shee...   \n",
       "3   Mash avocado with a fork or potato masher in a...   \n",
       "4   Stovetop Queso:\\r\\nAdd cheeses and half of the...   \n",
       "5   Preheat oven to 350º F.\\r\\nMix together all in...   \n",
       "\n",
       "                                            Nutrition   Cuisine       Yields  \\\n",
       "ID                                                                             \n",
       "1   {'calories': '220 kcal', 'carbohydrateContent'...  American   6 servings   \n",
       "2   {'servingSize': '0.25 pound', 'calories': '419...  American   8 servings   \n",
       "3   {'carbohydrateContent': '7 g', 'proteinContent...   Mexican   6 servings   \n",
       "4   {'calories': '534 kcal', 'carbohydrateContent'...  American   2 servings   \n",
       "5   {'calories': '106 kcal', 'proteinContent': '4 ...  American  12 servings   \n",
       "\n",
       "                                                Image  Ratings  Rating Counts  \\\n",
       "ID                                                                              \n",
       "1   https://addapinch.com/wp-content/uploads/2022/...     4.95            879   \n",
       "2   https://addapinch.com/wp-content/uploads/2018/...     5.00            665   \n",
       "3   https://addapinch.com/wp-content/uploads/2013/...     4.50            607   \n",
       "4   https://addapinch.com/wp-content/uploads/2015/...     5.00            284   \n",
       "5   https://addapinch.com/wp-content/uploads/2024/...     5.00            117   \n",
       "\n",
       "                                          Description    Status  \\\n",
       "ID                                                                \n",
       "1   The Best Swedish Meatballs feature tender meat...  Complete   \n",
       "2   Crispy Baked Buffalo Chicken Wings that are so...  Complete   \n",
       "3   This easy Guacamole recipe, made with fresh in...  Complete   \n",
       "4   This easy and delicious Queso recipe is made w...  Complete   \n",
       "5   Buffalo Chicken Dip Recipe is the best easy ap...  Complete   \n",
       "\n",
       "                                          Ingredients  \\\n",
       "ID                                                      \n",
       "1   ground beef, diced onion, egg, stone house sea...   \n",
       "2   chicken wings, cornstarch, stone house seasoni...   \n",
       "3   avocados (halved, seeded, and peeled), lime ju...   \n",
       "4   pepper jack cheese, grated white american chee...   \n",
       "5   chicken breasts, cream cheese, ranch dressing ...   \n",
       "\n",
       "                                 IngredientsProcessed  \\\n",
       "ID                                                      \n",
       "1   ground beef, diced onion, egg, stone house sea...   \n",
       "2   chicken wing, cornstarch, stone house seasonin...   \n",
       "3   avocados halved, seeded, and peeled, lime juic...   \n",
       "4   pepper jack cheese, grated white american chee...   \n",
       "5   chicken breast, cream cheese, ranch dressing o...   \n",
       "\n",
       "                                 IngredientsProcNouns  \n",
       "ID                                                     \n",
       "1   ground, beef, onion, egg, stone, house, ground...  \n",
       "2   chicken, wing, cornstarch, stone, house, recip...  \n",
       "3   lime, juice, sea, salt, garlic, onion, ground,...  \n",
       "4   pepper, jack, cheese, white, american, cheese,...  \n",
       "5   chicken, breast, cream, cheese, ranch, cheese,...  "
      ]
     },
     "execution_count": 53,
     "metadata": {},
     "output_type": "execute_result"
    }
   ],
   "source": [
    "df['IngredientsProcessed'] = df['Ingredients'].apply(preprocessor)\n",
    "df['IngredientsProcNouns'] = df['IngredientsProcessed'].apply(get_nouns)  # Takes 2 min per 1000 rows\n",
    "df['IngredientsProcessed'] = df['IngredientsProcessed'].apply(text_singularizer)  # Takes 1 min per 1000 rows\n",
    "df.head()"
   ]
  },
  {
   "cell_type": "code",
   "execution_count": 54,
   "metadata": {},
   "outputs": [],
   "source": [
    "\n",
    "df['IngredientsCombined'] = df.apply(lambda x: [x['IngredientsProcessed'], x['IngredientsProcNouns']],axis=1)"
   ]
  },
  {
   "cell_type": "code",
   "execution_count": 56,
   "metadata": {},
   "outputs": [
    {
     "data": {
      "text/plain": [
       "'ground beef, diced onion, egg, stone house seasoning, ground allspice, ground nutmeg, bread or cracker crumb, fresh parsley, olive oil, butter, allpurpose flour, beef stock or broth, milk or heavy cream, stone house seasoning, worcestershire sauce, fresh parsley'"
      ]
     },
     "execution_count": 56,
     "metadata": {},
     "output_type": "execute_result"
    }
   ],
   "source": [
    "df.iloc[0].IngredientsCombined[0]"
   ]
  },
  {
   "cell_type": "code",
   "execution_count": 57,
   "metadata": {},
   "outputs": [
    {
     "name": "stdout",
     "output_type": "stream",
     "text": [
      "ground beef, diced onion, egg, stone house seasoning, ground allspice, ground nutmeg, bread or cracker crumb, fresh parsley, olive oil, butter, allpurpose flour, beef stock or broth, milk or heavy cream, stone house seasoning, worcestershire sauce, fresh parsley\n",
      "['ground', 'beef', 'diced', 'onion', 'egg', 'stone', 'house', 'seasoning', 'ground', 'allspice', 'ground', 'nutmeg', 'bread', 'or', 'cracker', 'crumb', 'fresh', 'parsley', 'olive', 'oil', 'butter', 'allpurpose', 'flour', 'beef', 'stock', 'or', 'broth', 'milk', 'or', 'heavy', 'cream', 'stone', 'house', 'seasoning', 'worcestershire', 'sauce', 'fresh', 'parsley']\n",
      "['ground', 'beef', 'onion', 'egg', 'stone', 'house', 'ground', 'allspice', 'ground', 'nutmeg', 'bread', 'cracker', 'parsley', 'olive', 'oil', 'butter', 'flour', 'beef', 'stock', 'broth', 'milk', 'cream', 'stone', 'house', 'worcestershire', 'parsley']\n"
     ]
    }
   ],
   "source": [
    "test = df.iloc[0].IngredientsProcessed\n",
    "tokens = RegexpTokenizer(r'\\w+').tokenize(test)\n",
    "print(test)\n",
    "print(tokens)\n",
    "print([token for token in tokens if is_noun(token)])"
   ]
  },
  {
   "cell_type": "code",
   "execution_count": 59,
   "metadata": {},
   "outputs": [],
   "source": [
    "def commatokenizer(text):\n",
    "    return text.split(', ')\n",
    "\n",
    "def mytokenizer(combinedlist):\n",
    "    ingredlist = combinedlist[0].split(', ')\n",
    "    nounlist = combinedlist[1].split(', ')\n",
    "    ingredlist = combinedlist[0].split(', ')\n",
    "    bigramlist = []\n",
    "    for ingred in ingredlist:\n",
    "        bigrms = [bi for bi in bigrams(ingred.split())]\n",
    "        for bi in bigrms:\n",
    "            if (bi[0] in nounlist) or (bi[1] in nounlist):\n",
    "                bigramlist.append(' '.join((bi[0], bi[1])))\n",
    "    return ', '.join(bigramlist + nounlist)"
   ]
  },
  {
   "cell_type": "code",
   "execution_count": 60,
   "metadata": {},
   "outputs": [
    {
     "name": "stdout",
     "output_type": "stream",
     "text": [
      "['ground beef, diced onion, egg, stone house seasoning, ground allspice, ground nutmeg, bread or cracker crumb, fresh parsley, olive oil, butter, allpurpose flour, beef stock or broth, milk or heavy cream, stone house seasoning, worcestershire sauce, fresh parsley', 'ground, beef, onion, egg, stone, house, ground, allspice, ground, nutmeg, bread, cracker, crumb, parsley, olive, oil, butter, flour, beef, stock, broth, milk, cream, stone, house, worcestershire, parsley'] \n",
      "\n",
      "ground beef, diced onion, stone house, house seasoning, ground allspice, ground nutmeg, bread or, or cracker, cracker crumb, fresh parsley, olive oil, allpurpose flour, beef stock, stock or, or broth, milk or, heavy cream, stone house, house seasoning, worcestershire sauce, fresh parsley, ground, beef, onion, egg, stone, house, ground, allspice, ground, nutmeg, bread, cracker, crumb, parsley, olive, oil, butter, flour, beef, stock, broth, milk, cream, stone, house, worcestershire, parsley \n",
      "\n",
      "['ground beef', 'diced onion', 'stone house', 'house seasoning', 'ground allspice', 'ground nutmeg', 'bread or', 'or cracker', 'cracker crumb', 'fresh parsley', 'olive oil', 'allpurpose flour', 'beef stock', 'stock or', 'or broth', 'milk or', 'heavy cream', 'stone house', 'house seasoning', 'worcestershire sauce', 'fresh parsley', 'ground', 'beef', 'onion', 'egg', 'stone', 'house', 'ground', 'allspice', 'ground', 'nutmeg', 'bread', 'cracker', 'crumb', 'parsley', 'olive', 'oil', 'butter', 'flour', 'beef', 'stock', 'broth', 'milk', 'cream', 'stone', 'house', 'worcestershire', 'parsley']\n"
     ]
    }
   ],
   "source": [
    "teststr = df.iloc[0].IngredientsCombined\n",
    "print(teststr, '\\n')\n",
    "print(mytokenizer(teststr),'\\n')\n",
    "print(commatokenizer(mytokenizer(teststr)))"
   ]
  },
  {
   "cell_type": "code",
   "execution_count": 61,
   "metadata": {},
   "outputs": [
    {
     "data": {
      "text/html": [
       "<div>\n",
       "<style scoped>\n",
       "    .dataframe tbody tr th:only-of-type {\n",
       "        vertical-align: middle;\n",
       "    }\n",
       "\n",
       "    .dataframe tbody tr th {\n",
       "        vertical-align: top;\n",
       "    }\n",
       "\n",
       "    .dataframe thead th {\n",
       "        text-align: right;\n",
       "    }\n",
       "</style>\n",
       "<table border=\"1\" class=\"dataframe\">\n",
       "  <thead>\n",
       "    <tr style=\"text-align: right;\">\n",
       "      <th></th>\n",
       "      <th>Category</th>\n",
       "      <th>Title</th>\n",
       "      <th>Total Time</th>\n",
       "      <th>All Ingredients</th>\n",
       "      <th>Ingredient Groups</th>\n",
       "      <th>Instructions</th>\n",
       "      <th>Nutrition</th>\n",
       "      <th>Cuisine</th>\n",
       "      <th>Yields</th>\n",
       "      <th>Image</th>\n",
       "      <th>Ratings</th>\n",
       "      <th>Rating Counts</th>\n",
       "      <th>Description</th>\n",
       "      <th>Status</th>\n",
       "      <th>Ingredients</th>\n",
       "      <th>IngredientsProcessed</th>\n",
       "      <th>IngredientsProcNouns</th>\n",
       "      <th>IngredientsCombined</th>\n",
       "      <th>IngredientsTokenized</th>\n",
       "    </tr>\n",
       "    <tr>\n",
       "      <th>ID</th>\n",
       "      <th></th>\n",
       "      <th></th>\n",
       "      <th></th>\n",
       "      <th></th>\n",
       "      <th></th>\n",
       "      <th></th>\n",
       "      <th></th>\n",
       "      <th></th>\n",
       "      <th></th>\n",
       "      <th></th>\n",
       "      <th></th>\n",
       "      <th></th>\n",
       "      <th></th>\n",
       "      <th></th>\n",
       "      <th></th>\n",
       "      <th></th>\n",
       "      <th></th>\n",
       "      <th></th>\n",
       "      <th></th>\n",
       "    </tr>\n",
       "  </thead>\n",
       "  <tbody>\n",
       "    <tr>\n",
       "      <th>1</th>\n",
       "      <td>Main Course</td>\n",
       "      <td>Swedish Meatballs Recipe</td>\n",
       "      <td>30</td>\n",
       "      <td>1 pound ground beef, 2 tablespoons diced onion...</td>\n",
       "      <td>IngredientGroup(ingredients=['1 pound ground b...</td>\n",
       "      <td>For the meatballs:\\r\\nMix together all ingredi...</td>\n",
       "      <td>{'calories': '220 kcal', 'carbohydrateContent'...</td>\n",
       "      <td>American</td>\n",
       "      <td>6 servings</td>\n",
       "      <td>https://addapinch.com/wp-content/uploads/2022/...</td>\n",
       "      <td>4.95</td>\n",
       "      <td>879</td>\n",
       "      <td>The Best Swedish Meatballs feature tender meat...</td>\n",
       "      <td>Complete</td>\n",
       "      <td>ground beef, diced onion, egg, stone house sea...</td>\n",
       "      <td>ground beef, diced onion, egg, stone house sea...</td>\n",
       "      <td>ground, beef, onion, egg, stone, house, ground...</td>\n",
       "      <td>[ground beef, diced onion, egg, stone house se...</td>\n",
       "      <td>ground beef, diced onion, stone house, house s...</td>\n",
       "    </tr>\n",
       "    <tr>\n",
       "      <th>2</th>\n",
       "      <td>Appetizer,Main Course</td>\n",
       "      <td>Baked Crispy Buffalo Chicken Wings Recipe</td>\n",
       "      <td>60</td>\n",
       "      <td>6 pounds chicken wings (trimmed), 3 tablespoon...</td>\n",
       "      <td>IngredientGroup(ingredients=['6 pounds chicken...</td>\n",
       "      <td>Preheat the oven to 425º F. Line a baking shee...</td>\n",
       "      <td>{'servingSize': '0.25 pound', 'calories': '419...</td>\n",
       "      <td>American</td>\n",
       "      <td>8 servings</td>\n",
       "      <td>https://addapinch.com/wp-content/uploads/2018/...</td>\n",
       "      <td>5.00</td>\n",
       "      <td>665</td>\n",
       "      <td>Crispy Baked Buffalo Chicken Wings that are so...</td>\n",
       "      <td>Complete</td>\n",
       "      <td>chicken wings, cornstarch, stone house seasoni...</td>\n",
       "      <td>chicken wing, cornstarch, stone house seasonin...</td>\n",
       "      <td>chicken, wing, cornstarch, stone, house, recip...</td>\n",
       "      <td>[chicken wing, cornstarch, stone house seasoni...</td>\n",
       "      <td>chicken wing, stone house, house seasoning, re...</td>\n",
       "    </tr>\n",
       "    <tr>\n",
       "      <th>3</th>\n",
       "      <td>Appetizer</td>\n",
       "      <td>Guacamole Recipe</td>\n",
       "      <td>5</td>\n",
       "      <td>2 avocados (halved, seeded, and peeled), 1 tab...</td>\n",
       "      <td>IngredientGroup(ingredients=['2 avocados (halv...</td>\n",
       "      <td>Mash avocado with a fork or potato masher in a...</td>\n",
       "      <td>{'carbohydrateContent': '7 g', 'proteinContent...</td>\n",
       "      <td>Mexican</td>\n",
       "      <td>6 servings</td>\n",
       "      <td>https://addapinch.com/wp-content/uploads/2013/...</td>\n",
       "      <td>4.50</td>\n",
       "      <td>607</td>\n",
       "      <td>This easy Guacamole recipe, made with fresh in...</td>\n",
       "      <td>Complete</td>\n",
       "      <td>avocados (halved, seeded, and peeled), lime ju...</td>\n",
       "      <td>avocados halved, seeded, and peeled, lime juic...</td>\n",
       "      <td>lime, juice, sea, salt, garlic, onion, ground,...</td>\n",
       "      <td>[avocados halved, seeded, and peeled, lime jui...</td>\n",
       "      <td>lime juice, sea salt, clove garlic, ground cum...</td>\n",
       "    </tr>\n",
       "    <tr>\n",
       "      <th>4</th>\n",
       "      <td>Appetizer</td>\n",
       "      <td>Perfect Queso Recipe</td>\n",
       "      <td>5</td>\n",
       "      <td>1/2 cup pepper jack cheese, 1 cup grated white...</td>\n",
       "      <td>IngredientGroup(ingredients=['1/2 cup pepper j...</td>\n",
       "      <td>Stovetop Queso:\\r\\nAdd cheeses and half of the...</td>\n",
       "      <td>{'calories': '534 kcal', 'carbohydrateContent'...</td>\n",
       "      <td>American</td>\n",
       "      <td>2 servings</td>\n",
       "      <td>https://addapinch.com/wp-content/uploads/2015/...</td>\n",
       "      <td>5.00</td>\n",
       "      <td>284</td>\n",
       "      <td>This easy and delicious Queso recipe is made w...</td>\n",
       "      <td>Complete</td>\n",
       "      <td>pepper jack cheese, grated white american chee...</td>\n",
       "      <td>pepper jack cheese, grated white american chee...</td>\n",
       "      <td>pepper, jack, cheese, white, american, cheese,...</td>\n",
       "      <td>[pepper jack cheese, grated white american che...</td>\n",
       "      <td>pepper jack, jack cheese, grated white, white ...</td>\n",
       "    </tr>\n",
       "    <tr>\n",
       "      <th>5</th>\n",
       "      <td>Appetizer</td>\n",
       "      <td>Buffalo Chicken Dip Recipe</td>\n",
       "      <td>25</td>\n",
       "      <td>2 cups chicken breasts (cooked and shredded), ...</td>\n",
       "      <td>IngredientGroup(ingredients=['2 cups chicken b...</td>\n",
       "      <td>Preheat oven to 350º F.\\r\\nMix together all in...</td>\n",
       "      <td>{'calories': '106 kcal', 'proteinContent': '4 ...</td>\n",
       "      <td>American</td>\n",
       "      <td>12 servings</td>\n",
       "      <td>https://addapinch.com/wp-content/uploads/2024/...</td>\n",
       "      <td>5.00</td>\n",
       "      <td>117</td>\n",
       "      <td>Buffalo Chicken Dip Recipe is the best easy ap...</td>\n",
       "      <td>Complete</td>\n",
       "      <td>chicken breasts, cream cheese, ranch dressing ...</td>\n",
       "      <td>chicken breast, cream cheese, ranch dressing o...</td>\n",
       "      <td>chicken, breast, cream, cheese, ranch, cheese,...</td>\n",
       "      <td>[chicken breast, cream cheese, ranch dressing ...</td>\n",
       "      <td>chicken breast, cream cheese, ranch dressing, ...</td>\n",
       "    </tr>\n",
       "  </tbody>\n",
       "</table>\n",
       "</div>"
      ],
      "text/plain": [
       "                 Category                                      Title  \\\n",
       "ID                                                                     \n",
       "1             Main Course                   Swedish Meatballs Recipe   \n",
       "2   Appetizer,Main Course  Baked Crispy Buffalo Chicken Wings Recipe   \n",
       "3               Appetizer                           Guacamole Recipe   \n",
       "4               Appetizer                       Perfect Queso Recipe   \n",
       "5               Appetizer                 Buffalo Chicken Dip Recipe   \n",
       "\n",
       "    Total Time                                    All Ingredients  \\\n",
       "ID                                                                  \n",
       "1           30  1 pound ground beef, 2 tablespoons diced onion...   \n",
       "2           60  6 pounds chicken wings (trimmed), 3 tablespoon...   \n",
       "3            5  2 avocados (halved, seeded, and peeled), 1 tab...   \n",
       "4            5  1/2 cup pepper jack cheese, 1 cup grated white...   \n",
       "5           25  2 cups chicken breasts (cooked and shredded), ...   \n",
       "\n",
       "                                    Ingredient Groups  \\\n",
       "ID                                                      \n",
       "1   IngredientGroup(ingredients=['1 pound ground b...   \n",
       "2   IngredientGroup(ingredients=['6 pounds chicken...   \n",
       "3   IngredientGroup(ingredients=['2 avocados (halv...   \n",
       "4   IngredientGroup(ingredients=['1/2 cup pepper j...   \n",
       "5   IngredientGroup(ingredients=['2 cups chicken b...   \n",
       "\n",
       "                                         Instructions  \\\n",
       "ID                                                      \n",
       "1   For the meatballs:\\r\\nMix together all ingredi...   \n",
       "2   Preheat the oven to 425º F. Line a baking shee...   \n",
       "3   Mash avocado with a fork or potato masher in a...   \n",
       "4   Stovetop Queso:\\r\\nAdd cheeses and half of the...   \n",
       "5   Preheat oven to 350º F.\\r\\nMix together all in...   \n",
       "\n",
       "                                            Nutrition   Cuisine       Yields  \\\n",
       "ID                                                                             \n",
       "1   {'calories': '220 kcal', 'carbohydrateContent'...  American   6 servings   \n",
       "2   {'servingSize': '0.25 pound', 'calories': '419...  American   8 servings   \n",
       "3   {'carbohydrateContent': '7 g', 'proteinContent...   Mexican   6 servings   \n",
       "4   {'calories': '534 kcal', 'carbohydrateContent'...  American   2 servings   \n",
       "5   {'calories': '106 kcal', 'proteinContent': '4 ...  American  12 servings   \n",
       "\n",
       "                                                Image  Ratings  Rating Counts  \\\n",
       "ID                                                                              \n",
       "1   https://addapinch.com/wp-content/uploads/2022/...     4.95            879   \n",
       "2   https://addapinch.com/wp-content/uploads/2018/...     5.00            665   \n",
       "3   https://addapinch.com/wp-content/uploads/2013/...     4.50            607   \n",
       "4   https://addapinch.com/wp-content/uploads/2015/...     5.00            284   \n",
       "5   https://addapinch.com/wp-content/uploads/2024/...     5.00            117   \n",
       "\n",
       "                                          Description    Status  \\\n",
       "ID                                                                \n",
       "1   The Best Swedish Meatballs feature tender meat...  Complete   \n",
       "2   Crispy Baked Buffalo Chicken Wings that are so...  Complete   \n",
       "3   This easy Guacamole recipe, made with fresh in...  Complete   \n",
       "4   This easy and delicious Queso recipe is made w...  Complete   \n",
       "5   Buffalo Chicken Dip Recipe is the best easy ap...  Complete   \n",
       "\n",
       "                                          Ingredients  \\\n",
       "ID                                                      \n",
       "1   ground beef, diced onion, egg, stone house sea...   \n",
       "2   chicken wings, cornstarch, stone house seasoni...   \n",
       "3   avocados (halved, seeded, and peeled), lime ju...   \n",
       "4   pepper jack cheese, grated white american chee...   \n",
       "5   chicken breasts, cream cheese, ranch dressing ...   \n",
       "\n",
       "                                 IngredientsProcessed  \\\n",
       "ID                                                      \n",
       "1   ground beef, diced onion, egg, stone house sea...   \n",
       "2   chicken wing, cornstarch, stone house seasonin...   \n",
       "3   avocados halved, seeded, and peeled, lime juic...   \n",
       "4   pepper jack cheese, grated white american chee...   \n",
       "5   chicken breast, cream cheese, ranch dressing o...   \n",
       "\n",
       "                                 IngredientsProcNouns  \\\n",
       "ID                                                      \n",
       "1   ground, beef, onion, egg, stone, house, ground...   \n",
       "2   chicken, wing, cornstarch, stone, house, recip...   \n",
       "3   lime, juice, sea, salt, garlic, onion, ground,...   \n",
       "4   pepper, jack, cheese, white, american, cheese,...   \n",
       "5   chicken, breast, cream, cheese, ranch, cheese,...   \n",
       "\n",
       "                                  IngredientsCombined  \\\n",
       "ID                                                      \n",
       "1   [ground beef, diced onion, egg, stone house se...   \n",
       "2   [chicken wing, cornstarch, stone house seasoni...   \n",
       "3   [avocados halved, seeded, and peeled, lime jui...   \n",
       "4   [pepper jack cheese, grated white american che...   \n",
       "5   [chicken breast, cream cheese, ranch dressing ...   \n",
       "\n",
       "                                 IngredientsTokenized  \n",
       "ID                                                     \n",
       "1   ground beef, diced onion, stone house, house s...  \n",
       "2   chicken wing, stone house, house seasoning, re...  \n",
       "3   lime juice, sea salt, clove garlic, ground cum...  \n",
       "4   pepper jack, jack cheese, grated white, white ...  \n",
       "5   chicken breast, cream cheese, ranch dressing, ...  "
      ]
     },
     "execution_count": 61,
     "metadata": {},
     "output_type": "execute_result"
    }
   ],
   "source": [
    "df['IngredientsTokenized'] = df['IngredientsCombined'].apply(mytokenizer)\n",
    "df.head()"
   ]
  },
  {
   "cell_type": "code",
   "execution_count": 63,
   "metadata": {},
   "outputs": [
    {
     "data": {
      "text/plain": [
       "'chicken wing, stone house, house seasoning, recipe buffalo, blue cheese, cheese dressing, ranch dressing, chicken, wing, cornstarch, stone, house, recipe, cheese, ranch'"
      ]
     },
     "execution_count": 63,
     "metadata": {},
     "output_type": "execute_result"
    }
   ],
   "source": [
    "df.iloc[1].IngredientsTokenized"
   ]
  },
  {
   "cell_type": "code",
   "execution_count": 64,
   "metadata": {},
   "outputs": [],
   "source": [
    "df0 = df.copy()\n",
    "df1 = df.copy()"
   ]
  },
  {
   "cell_type": "code",
   "execution_count": 67,
   "metadata": {},
   "outputs": [
    {
     "name": "stdout",
     "output_type": "stream",
     "text": [
      "1289\n"
     ]
    }
   ],
   "source": [
    "print(df[(df['Ratings'] >= 4) & (df['Rating Counts'] >= 4)]['Ratings'].count())\n"
   ]
  },
  {
   "cell_type": "code",
   "execution_count": 69,
   "metadata": {},
   "outputs": [
    {
     "name": "stdout",
     "output_type": "stream",
     "text": [
      "2\n"
     ]
    }
   ],
   "source": [
    "df1 = df[(df['Ratings'] >= 4) & (df['Rating Counts'] >= 4)]\n",
    "\n",
    "print(df[df.Title.str.contains('[Hh]ummus')].Title.count())"
   ]
  },
  {
   "cell_type": "code",
   "execution_count": 70,
   "metadata": {},
   "outputs": [],
   "source": [
    "STOP_WORDS = ['ground', 'fresh ground', 'powder', 'cream of', 'boneless', 'skinless', 'skinless chicken', 'half'\n",
    "             'butter or', 'juice', 'fresh lemon', 'rind', 'salt and', 'and pepper', 'boiling water', 'cold water',\n",
    "             'sauce', 'soy', 'chip', 'soda', 'oil', 'or vegetable', 'oil or', 'vegetable', 'seed',\n",
    "             'shredded cheddar', 'grated cheddar', 'jack', 'monterey', 'cheese or', \n",
    "            'half', 'of chicken', 'shredded mozzarella', 'cottage', 'confectioner', 'unsalted butter', 'of chicken',\n",
    "            'condensed cream', 'package', 'package cream', 'whip', 'stalk celery', 'bay', 'leaf',\n",
    "            'slice', 'slice white', 'slice bacon', 'slice bread', 'slice white', 'creamy', 'butter or', 'or butter',\n",
    "            'salt', 'yeast or', 'pepper or', 'white', 'lowfat', 'skim', 'milk or', 'instant', 'whip', 'light', \n",
    "            'light corn', 'flake', 'worcestershire', 'dijon', 'cream or', 'salt pepper', 'wheat', 'squeezed lemon',\n",
    "             ]"
   ]
  },
  {
   "cell_type": "code",
   "execution_count": 71,
   "metadata": {},
   "outputs": [
    {
     "name": "stderr",
     "output_type": "stream",
     "text": [
      "c:\\Users\\arsen\\Healthylicious\\.venv\\lib\\site-packages\\sklearn\\feature_extraction\\text.py:523: UserWarning: The parameter 'token_pattern' will not be used since 'tokenizer' is not None'\n",
      "  warnings.warn(\n"
     ]
    },
    {
     "name": "stdout",
     "output_type": "stream",
     "text": [
      "(1289, 415)\n"
     ]
    }
   ],
   "source": [
    "vectorizer = TfidfVectorizer(tokenizer = commatokenizer,\n",
    "                  stop_words=STOP_WORDS,\n",
    "                  min_df=7,max_df=.4,\n",
    "                            )\n",
    "docs = df1['IngredientsTokenized']\n",
    "doc_word = vectorizer.fit_transform(docs)\n",
    "    #returns sparsemat, can use pd.DataFrame(doc_term.toarray()) vectorizer.get_feature_names()\n",
    "print(doc_word.shape)\n",
    "\n",
    "nmf_model = NMF(20, random_state=10, max_iter=1000)\n",
    "doc_topic = nmf_model.fit_transform(doc_word)\n",
    "topic_word = nmf_model.components_"
   ]
  },
  {
   "cell_type": "code",
   "execution_count": 73,
   "metadata": {},
   "outputs": [
    {
     "name": "stdout",
     "output_type": "stream",
     "text": [
      "\n",
      "Topic  0\n",
      "vanilla, vanilla extract, sugar, milk, confectioner sugar, cream, cocoa, cocoa powder\n",
      "\n",
      "Topic  1\n",
      "black pepper, ground black, pepper, kosher, kosher salt, butter, mayonnaise, garlic\n",
      "\n",
      "Topic  2\n",
      "stone, house, stone house, house seasoning, worcestershire sauce, beef, fresh parsley, parsley\n",
      "\n",
      "Topic  3\n",
      "cheese, cheddar, cheddar cheese, cream, sour cream, cream cheese, bacon, tortilla\n",
      "\n",
      "Topic  4\n",
      "pepper, garlic, onion, cloves garlic, red, red pepper, clove garlic, pepper flake\n",
      "\n",
      "Topic  5\n",
      "chicken, breast, chicken breast, boneless skinless, bbq sauce, bbq, wing, chicken wing\n",
      "\n",
      "Topic  6\n",
      "chocolate, chocolate chip, peanut, semisweet, peanut butter, coconut, milk, coconut oil\n",
      "\n",
      "Topic  7\n",
      "parmesan, parmesan cheese, cheese, grated parmesan, parsley, spinach, garlic, pizza\n",
      "\n",
      "Topic  8\n",
      "green, salad green, cucumber, red, red onion, onion, grape, grape tomatoes\n",
      "\n",
      "Topic  9\n",
      "lemon, lemon juice, zest, lemon zest, mayonnaise, celery, orange, sugar\n",
      "\n",
      "Topic  10\n",
      "stock, broth, stock or, or broth, chicken stock, chicken, beef, beef stock\n",
      "\n",
      "Topic  11\n",
      "brown, brown sugar, sugar, butter, packed brown, sea, sea salt, vanilla\n",
      "\n",
      "Topic  12\n",
      "water, granulated sugar, yeast, sugar, egg, corn, sea salt, sea\n",
      "\n",
      "Topic  13\n",
      "½, ½ kosher, ½ milk, ½ baking, ½ ground, mustard, ½ granulated, ½ mayonnaise\n",
      "\n",
      "Topic  14\n",
      "apple, cider, apple cider, cider vinegar, vinegar, mustard, mayonnaise, dijon mustard\n",
      "\n",
      "Topic  15\n",
      "olive, olive oil, potato, sweet potato, russet potato, shrimp, sea, chop\n",
      "\n",
      "Topic  16\n",
      "flour, allpurpose flour, egg, butter, baking powder, buttermilk, kosher salt, kosher\n",
      "\n",
      "Topic  17\n",
      "balsamic, basil, mozzarella, mozzarella cheese, fresh basil, balsamic glaze, basil leaves, cheese\n",
      "\n",
      "Topic  18\n",
      "cinnamon, ground cinnamon, granulated sugar, sugar, ginger, ground ginger, nutmeg, roll\n",
      "\n",
      "Topic  19\n",
      "recipe, pie, crust, crust recipe, pie crust, whipped cream, strawberry, cake\n"
     ]
    }
   ],
   "source": [
    "def display_topics(model, feature_names, num_top_words, topic_names=None):\n",
    "    for idx, topic in enumerate(model.components_):\n",
    "        if not topic_names or not topic_names[idx]:\n",
    "            print(\"\\nTopic \", idx)\n",
    "        else:\n",
    "            print(\"\\nTopic: '\",topic_names[idx],\"'\")\n",
    "        print(\", \".join([feature_names[i]\n",
    "                        for i in topic.argsort()[:-num_top_words - 1:-1]]))\n",
    "        \n",
    "    \n",
    "display_topics(nmf_model, vectorizer.get_feature_names_out(), 8 )"
   ]
  },
  {
   "cell_type": "code",
   "execution_count": 74,
   "metadata": {},
   "outputs": [],
   "source": [
    "def user_tokenize(ingreds):\n",
    "    ingreds = preprocessor(ingreds)\n",
    "    nouns = get_nouns(ingreds)\n",
    "    ingreds = text_singularizer(ingreds)\n",
    "    ingredscombined = [ingreds, nouns]\n",
    "    ingredstokenized = mytokenizer(ingredscombined)\n",
    "    return ingredstokenized"
   ]
  },
  {
   "cell_type": "code",
   "execution_count": 83,
   "metadata": {},
   "outputs": [
    {
     "name": "stdout",
     "output_type": "stream",
     "text": [
      "6 pounds chicken wings (trimmed), 3 tablespoons cornstarch, 1 teaspoon Stone House Seasoning, 1 recipe Buffalo Sauce, Blue Cheese Dressing (optional), Ranch Dressing (optional) \n",
      "\n",
      "chicken wing, stone house, house seasoning, recipe buffalo, blue cheese, cheese dressing, ranch dressing, chicken, wing, cornstarch, stone, house, recipe, cheese, ranch \n",
      "\n"
     ]
    }
   ],
   "source": [
    "df['All Ingredients'] = df['All Ingredients'].apply(lambda x: ', '.join(x) if isinstance(x, list) else x)\n",
    "test = df.iloc[1]['Ingredients']\n",
    "print(test,'\\n')\n",
    "print(user_tokenize(clean_once(test)),'\\n')"
   ]
  },
  {
   "cell_type": "code",
   "execution_count": 86,
   "metadata": {},
   "outputs": [],
   "source": [
    "def clean_raw(text):\n",
    "    text = text[\"All Ingredients\"]\n",
    "    ingredlist = []\n",
    "    for ingred in  text.split(\"#item,\"):\n",
    "        ingred = ingred.replace('#item','')         # Scraping artifact on last item\n",
    "        ingredlist.append(ingred.strip())\n",
    "        ingredlist = [ingred for ingred in ingredlist if not ingred.isupper()]  # Important for multi-part recipes\n",
    "    return ingredlist"
   ]
  },
  {
   "cell_type": "code",
   "execution_count": 87,
   "metadata": {},
   "outputs": [
    {
     "name": "stdout",
     "output_type": "stream",
     "text": [
      "Pulled Pork Enchilada Salad Recipe\n"
     ]
    },
    {
     "data": {
      "text/plain": [
       "['pulled pork',\n",
       " 'enchilada sauce',\n",
       " 'brown sugar',\n",
       " 'sriracha sauce',\n",
       " 'lettuce green',\n",
       " 'black bean',\n",
       " 'red onion',\n",
       " 'canola oil',\n",
       " 'mozzarella cheese',\n",
       " 'pork',\n",
       " 'enchilada',\n",
       " 'coke',\n",
       " 'brown',\n",
       " 'sugar',\n",
       " 'sriracha',\n",
       " 'green',\n",
       " 'cucumber',\n",
       " 'bean',\n",
       " 'red',\n",
       " 'onion',\n",
       " 'canola',\n",
       " 'oil',\n",
       " 'tortilla',\n",
       " 'mozzarella',\n",
       " 'cheese']"
      ]
     },
     "execution_count": 87,
     "metadata": {},
     "output_type": "execute_result"
    }
   ],
   "source": [
    "test = df.iloc[np.random.choice(range(1,1295))]\n",
    "print(test.Title)\n",
    "clean_raw(test)\n",
    "test.IngredientsTokenized.split(', ')"
   ]
  },
  {
   "cell_type": "code",
   "execution_count": 105,
   "metadata": {},
   "outputs": [
    {
     "name": "stdout",
     "output_type": "stream",
     "text": [
      "User Input:  butter, ground beef, kosher salt\n",
      "Tokens Generated:  ground beef, kosher salt, butter, ground, beef, kosher, salt \n",
      "\n",
      "SOUTHERN COUNTRY FRIED STEAK\n",
      "4 cube steaks, 1 cup all-purpose flour, 1 teaspoon Stone House Seasoning, 1 cup buttermilk, 1 teaspoon hot sauce (optional), 1 large egg, 1 cup vegetable oil, 1/2 cup all-purpose flour, 3 1/2 - 4 cups whole milk, 1/2 teaspoon kosher salt, 1/2 teaspoon ground black pepper \n",
      "\n",
      "BEEF TENDERLOIN SLIDERS RECIPE\n",
      "2 pounds beef tenderloin (cooked medium-rare, sliced into 1/2-inch slices), 12 slider buns (split), 4 tablespoons butter, 1 cup horseradish sauce \n",
      "\n",
      "SIMPLE CHICKEN NUGGETS RECIPE\n",
      "1 1/2 - 2 pounds chicken tenderloins (about 12), 1/4 cup all-purpose flour, 1 teaspoon fresh thyme, 2 teaspoons paprika, 1 teaspoon kosher salt, 1 tablespoon butter (melted) \n",
      "\n",
      "SOUTHERN HOECAKES RECIPE\n",
      "1 cup flour (self-rising), 1 cup buttermilk cornmeal (self-rising), 1 cup fresh corn (cut off the cob), pinch kosher salt, pinch ground black pepper, 1 tablespoon sugar, 4 tablespoons butter (melted), 1 cup buttermilk, 1 egg, butter for griddle \n",
      "\n",
      "SOUTHERN HOECAKES RECIPE\n",
      "1 cup flour (self-rising), 1 cup buttermilk cornmeal (self-rising), 1 cup fresh corn (cut off the cob), pinch kosher salt, pinch ground black pepper, 1 tablespoon sugar, 4 tablespoons butter (melted), 1 cup buttermilk, 1 egg, butter for griddle \n",
      "\n"
     ]
    }
   ],
   "source": [
    "###\n",
    "useringreds = \"butter, ground beef, kosher salt\"\n",
    "###\n",
    "\n",
    "usertokens = user_tokenize(useringreds)\n",
    "print('User Input: ', useringreds)\n",
    "print('Tokens Generated: ', usertokens, '\\n')\n",
    "\n",
    "user_vec = vectorizer.transform([usertokens])\n",
    "topic_vec = nmf_model.transform(user_vec)\n",
    "indices = pairwise_distances(topic_vec,doc_topic,metric='cosine').argsort().ravel()\n",
    "for index in indices[0:5]:\n",
    "    print(df1.iloc[index].Title.upper())\n",
    "    print(df1.iloc[index][\"All Ingredients\"], '\\n')"
   ]
  },
  {
   "cell_type": "code",
   "execution_count": 118,
   "metadata": {},
   "outputs": [
    {
     "data": {
      "text/plain": [
       "['chicken breast, cream cheese, ranch dressing or blue cheese dressing, homemade or storebought, buffalo sauce recipe, grated cheddar cheese, stone house seasoning, bleu cheese crumble',\n",
       " 'chicken, breast, cream, cheese, ranch, cheese, homemade, recipe, cheddar, cheese, stone, house, bleu, cheese, crumble']"
      ]
     },
     "execution_count": 118,
     "metadata": {},
     "output_type": "execute_result"
    }
   ],
   "source": [
    "df[\"IngredientsCombined\"][5]"
   ]
  },
  {
   "cell_type": "code",
   "execution_count": 119,
   "metadata": {},
   "outputs": [],
   "source": [
    "data = []\n",
    "\n",
    "# Initialize a counter for the unique ID\n",
    "unique_id = 1\n",
    "\n",
    "# Iterate through all rows in the 'IngredientsTokenized' column\n",
    "for index, row in df.iterrows():\n",
    "    combined_ingredients = row[\"IngredientsCombined\"]\n",
    "    for ingredient_list in combined_ingredients:\n",
    "        ingredients = ingredient_list.split(', ')\n",
    "        for ingredient in ingredients:\n",
    "            data.append({'ID': unique_id, 'Ingredient': ingredient})\n",
    "            unique_id += 1\n",
    "\n",
    "# Create a new DataFrame from the list of ingredients and their IDs\n",
    "combined_ingredients_df = pd.DataFrame(data)"
   ]
  },
  {
   "cell_type": "code",
   "execution_count": 120,
   "metadata": {},
   "outputs": [
    {
     "data": {
      "text/html": [
       "<div>\n",
       "<style scoped>\n",
       "    .dataframe tbody tr th:only-of-type {\n",
       "        vertical-align: middle;\n",
       "    }\n",
       "\n",
       "    .dataframe tbody tr th {\n",
       "        vertical-align: top;\n",
       "    }\n",
       "\n",
       "    .dataframe thead th {\n",
       "        text-align: right;\n",
       "    }\n",
       "</style>\n",
       "<table border=\"1\" class=\"dataframe\">\n",
       "  <thead>\n",
       "    <tr style=\"text-align: right;\">\n",
       "      <th></th>\n",
       "      <th>ID</th>\n",
       "      <th>Ingredient</th>\n",
       "    </tr>\n",
       "  </thead>\n",
       "  <tbody>\n",
       "    <tr>\n",
       "      <th>0</th>\n",
       "      <td>1</td>\n",
       "      <td>ground beef</td>\n",
       "    </tr>\n",
       "    <tr>\n",
       "      <th>1</th>\n",
       "      <td>2</td>\n",
       "      <td>diced onion</td>\n",
       "    </tr>\n",
       "    <tr>\n",
       "      <th>2</th>\n",
       "      <td>3</td>\n",
       "      <td>egg</td>\n",
       "    </tr>\n",
       "    <tr>\n",
       "      <th>3</th>\n",
       "      <td>4</td>\n",
       "      <td>stone house seasoning</td>\n",
       "    </tr>\n",
       "    <tr>\n",
       "      <th>4</th>\n",
       "      <td>5</td>\n",
       "      <td>ground allspice</td>\n",
       "    </tr>\n",
       "    <tr>\n",
       "      <th>...</th>\n",
       "      <td>...</td>\n",
       "      <td>...</td>\n",
       "    </tr>\n",
       "    <tr>\n",
       "      <th>26817</th>\n",
       "      <td>26818</td>\n",
       "      <td>sugar</td>\n",
       "    </tr>\n",
       "    <tr>\n",
       "      <th>26818</th>\n",
       "      <td>26819</td>\n",
       "      <td>karo</td>\n",
       "    </tr>\n",
       "    <tr>\n",
       "      <th>26819</th>\n",
       "      <td>26820</td>\n",
       "      <td>kosher</td>\n",
       "    </tr>\n",
       "    <tr>\n",
       "      <th>26820</th>\n",
       "      <td>26821</td>\n",
       "      <td>salt</td>\n",
       "    </tr>\n",
       "    <tr>\n",
       "      <th>26821</th>\n",
       "      <td>26822</td>\n",
       "      <td>vanilla</td>\n",
       "    </tr>\n",
       "  </tbody>\n",
       "</table>\n",
       "<p>26822 rows × 2 columns</p>\n",
       "</div>"
      ],
      "text/plain": [
       "          ID             Ingredient\n",
       "0          1            ground beef\n",
       "1          2            diced onion\n",
       "2          3                    egg\n",
       "3          4  stone house seasoning\n",
       "4          5        ground allspice\n",
       "...      ...                    ...\n",
       "26817  26818                  sugar\n",
       "26818  26819                   karo\n",
       "26819  26820                 kosher\n",
       "26820  26821                   salt\n",
       "26821  26822                vanilla\n",
       "\n",
       "[26822 rows x 2 columns]"
      ]
     },
     "execution_count": 120,
     "metadata": {},
     "output_type": "execute_result"
    }
   ],
   "source": [
    "combined_ingredients_df"
   ]
  },
  {
   "cell_type": "code",
   "execution_count": 121,
   "metadata": {},
   "outputs": [],
   "source": [
    "combined_ingredients_df.to_csv('combined_ingredients.csv', index=False)"
   ]
  }
 ],
 "metadata": {
  "kernelspec": {
   "display_name": ".venv",
   "language": "python",
   "name": "python3"
  },
  "language_info": {
   "codemirror_mode": {
    "name": "ipython",
    "version": 3
   },
   "file_extension": ".py",
   "mimetype": "text/x-python",
   "name": "python",
   "nbconvert_exporter": "python",
   "pygments_lexer": "ipython3",
   "version": "3.9.13"
  }
 },
 "nbformat": 4,
 "nbformat_minor": 2
}
