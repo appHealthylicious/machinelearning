{
 "cells": [
  {
   "cell_type": "code",
   "execution_count": 30,
   "metadata": {},
   "outputs": [],
   "source": [
    "import pandas as pd\n",
    "\n",
    "# Membaca dataset\n",
    "dataset = pd.read_csv('dataset/raw/combined_dataset/combined_dataset.csv')\n",
    "\n"
   ]
  },
  {
   "cell_type": "code",
   "execution_count": 25,
   "metadata": {},
   "outputs": [
    {
     "name": "stdout",
     "output_type": "stream",
     "text": [
      "Nilai None (missing values) per kolom:\n",
      "Category             0\n",
      "Title                0\n",
      "Total Time           0\n",
      "All Ingredients      0\n",
      "Ingredient Groups    0\n",
      "Instructions         0\n",
      "Nutrition            0\n",
      "Cuisine              0\n",
      "Yields               0\n",
      "Image                0\n",
      "Ratings              0\n",
      "Description          0\n",
      "Status               0\n",
      "dtype: int64\n"
     ]
    }
   ],
   "source": [
    "# Mengecek nilai None (missing values)\n",
    "missing_values = dataset.isnull().sum()\n",
    "print(\"Nilai None (missing values) per kolom:\")\n",
    "print(missing_values)"
   ]
  },
  {
   "cell_type": "code",
   "execution_count": 26,
   "metadata": {},
   "outputs": [
    {
     "name": "stdout",
     "output_type": "stream",
     "text": [
      "\n",
      "Contoh nilai None di kolom 'Ingredients':\n",
      "Empty DataFrame\n",
      "Columns: [Category, Title, Total Time, All Ingredients, Ingredient Groups, Instructions, Nutrition, Cuisine, Yields, Image, Ratings, Description, Status]\n",
      "Index: []\n"
     ]
    }
   ],
   "source": [
    "print(\"\\nContoh nilai None di kolom 'Ingredients':\")\n",
    "print(dataset[dataset['All Ingredients'].isnull()].head())\n"
   ]
  },
  {
   "cell_type": "code",
   "execution_count": 27,
   "metadata": {},
   "outputs": [],
   "source": [
    "# Menghapus baris yang mengandung nilai None\n",
    "dataset_cleaned = dataset.dropna()"
   ]
  },
  {
   "cell_type": "code",
   "execution_count": 28,
   "metadata": {},
   "outputs": [
    {
     "name": "stdout",
     "output_type": "stream",
     "text": [
      "Jumlah baris duplikat: 0\n"
     ]
    }
   ],
   "source": [
    "# Mengecek nilai duplikat\n",
    "duplicates = dataset.duplicated().sum()\n",
    "print(f\"Jumlah baris duplikat: {duplicates}\")"
   ]
  },
  {
   "cell_type": "code",
   "execution_count": 29,
   "metadata": {},
   "outputs": [],
   "source": [
    "# Menghapus baris duplikat\n",
    "dataset_cleaned = dataset_cleaned.drop_duplicates()"
   ]
  },
  {
   "cell_type": "code",
   "execution_count": 14,
   "metadata": {},
   "outputs": [
    {
     "name": "stdout",
     "output_type": "stream",
     "text": [
      "Dataset telah dibersihkan dari nilai None dan duplikat.\n"
     ]
    }
   ],
   "source": [
    "dataset_cleaned.to_csv('combined_dataset_cleaned.csv', index=False)\n",
    "\n",
    "print(\"Dataset telah dibersihkan dari nilai None dan duplikat.\")"
   ]
  }
 ],
 "metadata": {
  "kernelspec": {
   "display_name": ".venv",
   "language": "python",
   "name": "python3"
  },
  "language_info": {
   "codemirror_mode": {
    "name": "ipython",
    "version": 3
   },
   "file_extension": ".py",
   "mimetype": "text/x-python",
   "name": "python",
   "nbconvert_exporter": "python",
   "pygments_lexer": "ipython3",
   "version": "3.9.13"
  }
 },
 "nbformat": 4,
 "nbformat_minor": 2
}
